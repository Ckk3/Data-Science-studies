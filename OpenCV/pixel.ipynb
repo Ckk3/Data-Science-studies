{
 "metadata": {
  "language_info": {
   "codemirror_mode": {
    "name": "ipython",
    "version": 3
   },
   "file_extension": ".py",
   "mimetype": "text/x-python",
   "name": "python",
   "nbconvert_exporter": "python",
   "pygments_lexer": "ipython3",
   "version": "3.8.5-final"
  },
  "orig_nbformat": 2,
  "kernelspec": {
   "name": "python3",
   "display_name": "Python 3",
   "language": "python"
  }
 },
 "nbformat": 4,
 "nbformat_minor": 2,
 "cells": [
  {
   "source": [
    "<h1>Pixels</h1>"
   ],
   "cell_type": "markdown",
   "metadata": {}
  },
  {
   "cell_type": "code",
   "execution_count": 94,
   "metadata": {},
   "outputs": [],
   "source": [
    "import cv2 as cv\n",
    "import numpy as np\n",
    "import random"
   ]
  },
  {
   "source": [
    "<h2>Creating Image</h2>"
   ],
   "cell_type": "markdown",
   "metadata": {}
  },
  {
   "cell_type": "code",
   "execution_count": 101,
   "metadata": {},
   "outputs": [],
   "source": [
    "width = 16\n",
    "height = 16\n",
    "image = np.zeros((width, height, 3), dtype=np.uint8)"
   ]
  },
  {
   "source": [
    "<h2>Changing Color and Size</h2>"
   ],
   "cell_type": "markdown",
   "metadata": {}
  },
  {
   "cell_type": "code",
   "execution_count": 106,
   "metadata": {},
   "outputs": [],
   "source": [
    "for x in range(width):\n",
    "    for y in range(height):\n",
    "        image[x, y] = (random.randint(0, 255), random.randint(0, 255), random.randint(0, 255))\n",
    "\n",
    "dsize = (500,500)\n",
    "changedImg = cv.resize( src=image, dsize=dsize, interpolation=cv.BORDER_CONSTANT)"
   ]
  },
  {
   "source": [
    "<h2>Creating Window</h2>"
   ],
   "cell_type": "markdown",
   "metadata": {}
  },
  {
   "cell_type": "code",
   "execution_count": 107,
   "metadata": {},
   "outputs": [],
   "source": [
    "#cv.imshow('Demo', image)\n",
    "cv.imshow('Demo', changedImg)\n",
    "cv.resizeWindow('Demo', 500, 500)\n",
    "cv.waitKey()\n",
    "cv.destroyAllWindows()"
   ]
  },
  {
   "source": [
    "<h3>Destroing all windows</h3>"
   ],
   "cell_type": "markdown",
   "metadata": {}
  },
  {
   "cell_type": "code",
   "execution_count": 98,
   "metadata": {},
   "outputs": [],
   "source": [
    "cv.destroyAllWindows()"
   ]
  }
 ]
}