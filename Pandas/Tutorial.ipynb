{
 "cells": [
  {
   "cell_type": "markdown",
   "metadata": {},
   "source": [
    "<h1>Pandas</h1>"
   ]
  },
  {
   "cell_type": "code",
   "execution_count": 22,
   "metadata": {},
   "outputs": [],
   "source": [
    "import pandas as pd\n",
    "import re"
   ]
  },
  {
   "cell_type": "code",
   "execution_count": 8,
   "metadata": {},
   "outputs": [
    {
     "output_type": "stream",
     "name": "stdout",
     "text": [
      "   #                   Name Type 1  Type 2  HP  Attack  Defense  Sp. Atk  \\\n0  1              Bulbasaur  Grass  Poison  45      49       49       65   \n1  2                Ivysaur  Grass  Poison  60      62       63       80   \n2  3               Venusaur  Grass  Poison  80      82       83      100   \n3  3  VenusaurMega Venusaur  Grass  Poison  80     100      123      122   \n\n   Sp. Def  Speed  Generation  Legendary  \n0       65     45           1      False  \n1       80     60           1      False  \n2      100     80           1      False  \n3      120     80           1      False  \n"
     ]
    }
   ],
   "source": [
    "poke =  pd.read_csv('pokemon_data.csv')\n",
    "print(poke.head(4))"
   ]
  },
  {
   "cell_type": "code",
   "execution_count": 10,
   "metadata": {},
   "outputs": [],
   "source": [
    "#poke_xlsx = pd.read_excel('pokemon_data.xlsx')\n",
    "#print(poke_xlsx.head(3))"
   ]
  },
  {
   "cell_type": "markdown",
   "metadata": {},
   "source": [
    "<h2>Readind Data</h2>"
   ]
  },
  {
   "cell_type": "code",
   "execution_count": 12,
   "metadata": {},
   "outputs": [
    {
     "output_type": "execute_result",
     "data": {
      "text/plain": [
       "       #    Name Type 1 Type 2   HP  Attack  Defense  Sp. Atk  Sp. Def  Speed  \\\n",
       "421  382  Kyogre  Water    NaN  100     100       90      150      140     90   \n",
       "\n",
       "     Generation  Legendary  \n",
       "421           3       True  "
      ],
      "text/html": "<div>\n<style scoped>\n    .dataframe tbody tr th:only-of-type {\n        vertical-align: middle;\n    }\n\n    .dataframe tbody tr th {\n        vertical-align: top;\n    }\n\n    .dataframe thead th {\n        text-align: right;\n    }\n</style>\n<table border=\"1\" class=\"dataframe\">\n  <thead>\n    <tr style=\"text-align: right;\">\n      <th></th>\n      <th>#</th>\n      <th>Name</th>\n      <th>Type 1</th>\n      <th>Type 2</th>\n      <th>HP</th>\n      <th>Attack</th>\n      <th>Defense</th>\n      <th>Sp. Atk</th>\n      <th>Sp. Def</th>\n      <th>Speed</th>\n      <th>Generation</th>\n      <th>Legendary</th>\n    </tr>\n  </thead>\n  <tbody>\n    <tr>\n      <th>421</th>\n      <td>382</td>\n      <td>Kyogre</td>\n      <td>Water</td>\n      <td>NaN</td>\n      <td>100</td>\n      <td>100</td>\n      <td>90</td>\n      <td>150</td>\n      <td>140</td>\n      <td>90</td>\n      <td>3</td>\n      <td>True</td>\n    </tr>\n  </tbody>\n</table>\n</div>"
     },
     "metadata": {},
     "execution_count": 12
    }
   ],
   "source": [
    "## Columms\n",
    "poke.columns\n",
    "\n",
    "## Read each column\n",
    "poke[['Name', 'Legendary']]\n",
    "\n",
    "## Read each row\n",
    "poke.iloc[421]\n",
    "#for index, row in poke.iterrows():\n",
    "#    print(index, row['Name'])\n",
    "poke.loc[poke['Name'] == 'Kyogre']\n",
    "\n",
    "## Read a specific Location (R, C)\n",
    "#poke.iloc[421,1]\n"
   ]
  },
  {
   "cell_type": "markdown",
   "metadata": {},
   "source": [
    "<h2>Sorting/Describing Data</h2>"
   ]
  },
  {
   "cell_type": "code",
   "execution_count": 14,
   "metadata": {},
   "outputs": [],
   "source": [
    "poke['Legendary'].describe()\n",
    "\n",
    "legendarySorted = poke.sort_values(['Legendary', 'Name'], ascending=[False, True])\n",
    "\n"
   ]
  },
  {
   "cell_type": "markdown",
   "metadata": {},
   "source": [
    "<h2>Making changes to the data</h2>"
   ]
  },
  {
   "cell_type": "code",
   "execution_count": 16,
   "metadata": {},
   "outputs": [
    {
     "output_type": "stream",
     "name": "stdout",
     "text": [
      "   #       Name Type 1  Type 2  HP  Attack  Defense  Sp. Atk  Sp. Def  Speed  \\\n0  1  Bulbasaur  Grass  Poison  45      49       49       65       65     45   \n1  2    Ivysaur  Grass  Poison  60      62       63       80       80     60   \n2  3   Venusaur  Grass  Poison  80      82       83      100      100     80   \n\n   Generation  Legendary  Total  \n0           1      False    318  \n1           1      False    405  \n2           1      False    525  \n"
     ]
    }
   ],
   "source": [
    "## Creating Total column\n",
    "#poke['Total'] = poke['Attack'] + poke['HP'] + poke['Defense'] + poke['Sp. Atk'] + poke['Sp. Def'] + poke['Speed']\n",
    "#poke = poke.drop(columns=['Total'])\n",
    "poke['Total'] = poke.iloc[:, 4:10].sum(axis=1)\n",
    "print(poke.head(3))\n"
   ]
  },
  {
   "cell_type": "markdown",
   "metadata": {},
   "source": [
    "<h2>Saving</h2>"
   ]
  },
  {
   "cell_type": "code",
   "execution_count": 18,
   "metadata": {},
   "outputs": [],
   "source": [
    "legendarySorted.to_csv('legendary_Sorted.csv', index=False)\n"
   ]
  },
  {
   "source": [
    "<h2>Filtering Data</h2>"
   ],
   "cell_type": "markdown",
   "metadata": {}
  },
  {
   "cell_type": "code",
   "execution_count": 20,
   "metadata": {},
   "outputs": [
    {
     "output_type": "execute_result",
     "data": {
      "text/plain": [
       "      #                   Name Type 1  Type 2   HP  Attack  Defense  Sp. Atk  \\\n",
       "0     1              Bulbasaur  Grass  Poison   45      49       49       65   \n",
       "1     2                Ivysaur  Grass  Poison   60      62       63       80   \n",
       "2     3               Venusaur  Grass  Poison   80      82       83      100   \n",
       "3     3  VenusaurMega Venusaur  Grass  Poison   80     100      123      122   \n",
       "4    43                 Oddish  Grass  Poison   45      50       55       75   \n",
       "5    44                  Gloom  Grass  Poison   60      65       70       85   \n",
       "6    45              Vileplume  Grass  Poison   75      80       85      110   \n",
       "7    69             Bellsprout  Grass  Poison   50      75       35       70   \n",
       "8    70             Weepinbell  Grass  Poison   65      90       50       85   \n",
       "9    71             Victreebel  Grass  Poison   80     105       65      100   \n",
       "10  315                Roselia  Grass  Poison   50      60       45      100   \n",
       "11  406                  Budew  Grass  Poison   40      30       35       50   \n",
       "12  407               Roserade  Grass  Poison   60      70       65      125   \n",
       "13  590                Foongus  Grass  Poison   69      55       45       55   \n",
       "14  591              Amoonguss  Grass  Poison  114      85       70       85   \n",
       "\n",
       "    Sp. Def  Speed  Generation  Legendary  Total  \n",
       "0        65     45           1      False    318  \n",
       "1        80     60           1      False    405  \n",
       "2       100     80           1      False    525  \n",
       "3       120     80           1      False    625  \n",
       "4        65     30           1      False    320  \n",
       "5        75     40           1      False    395  \n",
       "6        90     50           1      False    490  \n",
       "7        30     40           1      False    300  \n",
       "8        45     55           1      False    390  \n",
       "9        70     70           1      False    490  \n",
       "10       80     65           3      False    400  \n",
       "11       70     55           4      False    280  \n",
       "12      105     90           4      False    515  \n",
       "13       55     15           5      False    294  \n",
       "14       80     30           5      False    464  "
      ],
      "text/html": "<div>\n<style scoped>\n    .dataframe tbody tr th:only-of-type {\n        vertical-align: middle;\n    }\n\n    .dataframe tbody tr th {\n        vertical-align: top;\n    }\n\n    .dataframe thead th {\n        text-align: right;\n    }\n</style>\n<table border=\"1\" class=\"dataframe\">\n  <thead>\n    <tr style=\"text-align: right;\">\n      <th></th>\n      <th>#</th>\n      <th>Name</th>\n      <th>Type 1</th>\n      <th>Type 2</th>\n      <th>HP</th>\n      <th>Attack</th>\n      <th>Defense</th>\n      <th>Sp. Atk</th>\n      <th>Sp. Def</th>\n      <th>Speed</th>\n      <th>Generation</th>\n      <th>Legendary</th>\n      <th>Total</th>\n    </tr>\n  </thead>\n  <tbody>\n    <tr>\n      <th>0</th>\n      <td>1</td>\n      <td>Bulbasaur</td>\n      <td>Grass</td>\n      <td>Poison</td>\n      <td>45</td>\n      <td>49</td>\n      <td>49</td>\n      <td>65</td>\n      <td>65</td>\n      <td>45</td>\n      <td>1</td>\n      <td>False</td>\n      <td>318</td>\n    </tr>\n    <tr>\n      <th>1</th>\n      <td>2</td>\n      <td>Ivysaur</td>\n      <td>Grass</td>\n      <td>Poison</td>\n      <td>60</td>\n      <td>62</td>\n      <td>63</td>\n      <td>80</td>\n      <td>80</td>\n      <td>60</td>\n      <td>1</td>\n      <td>False</td>\n      <td>405</td>\n    </tr>\n    <tr>\n      <th>2</th>\n      <td>3</td>\n      <td>Venusaur</td>\n      <td>Grass</td>\n      <td>Poison</td>\n      <td>80</td>\n      <td>82</td>\n      <td>83</td>\n      <td>100</td>\n      <td>100</td>\n      <td>80</td>\n      <td>1</td>\n      <td>False</td>\n      <td>525</td>\n    </tr>\n    <tr>\n      <th>3</th>\n      <td>3</td>\n      <td>VenusaurMega Venusaur</td>\n      <td>Grass</td>\n      <td>Poison</td>\n      <td>80</td>\n      <td>100</td>\n      <td>123</td>\n      <td>122</td>\n      <td>120</td>\n      <td>80</td>\n      <td>1</td>\n      <td>False</td>\n      <td>625</td>\n    </tr>\n    <tr>\n      <th>4</th>\n      <td>43</td>\n      <td>Oddish</td>\n      <td>Grass</td>\n      <td>Poison</td>\n      <td>45</td>\n      <td>50</td>\n      <td>55</td>\n      <td>75</td>\n      <td>65</td>\n      <td>30</td>\n      <td>1</td>\n      <td>False</td>\n      <td>320</td>\n    </tr>\n    <tr>\n      <th>5</th>\n      <td>44</td>\n      <td>Gloom</td>\n      <td>Grass</td>\n      <td>Poison</td>\n      <td>60</td>\n      <td>65</td>\n      <td>70</td>\n      <td>85</td>\n      <td>75</td>\n      <td>40</td>\n      <td>1</td>\n      <td>False</td>\n      <td>395</td>\n    </tr>\n    <tr>\n      <th>6</th>\n      <td>45</td>\n      <td>Vileplume</td>\n      <td>Grass</td>\n      <td>Poison</td>\n      <td>75</td>\n      <td>80</td>\n      <td>85</td>\n      <td>110</td>\n      <td>90</td>\n      <td>50</td>\n      <td>1</td>\n      <td>False</td>\n      <td>490</td>\n    </tr>\n    <tr>\n      <th>7</th>\n      <td>69</td>\n      <td>Bellsprout</td>\n      <td>Grass</td>\n      <td>Poison</td>\n      <td>50</td>\n      <td>75</td>\n      <td>35</td>\n      <td>70</td>\n      <td>30</td>\n      <td>40</td>\n      <td>1</td>\n      <td>False</td>\n      <td>300</td>\n    </tr>\n    <tr>\n      <th>8</th>\n      <td>70</td>\n      <td>Weepinbell</td>\n      <td>Grass</td>\n      <td>Poison</td>\n      <td>65</td>\n      <td>90</td>\n      <td>50</td>\n      <td>85</td>\n      <td>45</td>\n      <td>55</td>\n      <td>1</td>\n      <td>False</td>\n      <td>390</td>\n    </tr>\n    <tr>\n      <th>9</th>\n      <td>71</td>\n      <td>Victreebel</td>\n      <td>Grass</td>\n      <td>Poison</td>\n      <td>80</td>\n      <td>105</td>\n      <td>65</td>\n      <td>100</td>\n      <td>70</td>\n      <td>70</td>\n      <td>1</td>\n      <td>False</td>\n      <td>490</td>\n    </tr>\n    <tr>\n      <th>10</th>\n      <td>315</td>\n      <td>Roselia</td>\n      <td>Grass</td>\n      <td>Poison</td>\n      <td>50</td>\n      <td>60</td>\n      <td>45</td>\n      <td>100</td>\n      <td>80</td>\n      <td>65</td>\n      <td>3</td>\n      <td>False</td>\n      <td>400</td>\n    </tr>\n    <tr>\n      <th>11</th>\n      <td>406</td>\n      <td>Budew</td>\n      <td>Grass</td>\n      <td>Poison</td>\n      <td>40</td>\n      <td>30</td>\n      <td>35</td>\n      <td>50</td>\n      <td>70</td>\n      <td>55</td>\n      <td>4</td>\n      <td>False</td>\n      <td>280</td>\n    </tr>\n    <tr>\n      <th>12</th>\n      <td>407</td>\n      <td>Roserade</td>\n      <td>Grass</td>\n      <td>Poison</td>\n      <td>60</td>\n      <td>70</td>\n      <td>65</td>\n      <td>125</td>\n      <td>105</td>\n      <td>90</td>\n      <td>4</td>\n      <td>False</td>\n      <td>515</td>\n    </tr>\n    <tr>\n      <th>13</th>\n      <td>590</td>\n      <td>Foongus</td>\n      <td>Grass</td>\n      <td>Poison</td>\n      <td>69</td>\n      <td>55</td>\n      <td>45</td>\n      <td>55</td>\n      <td>55</td>\n      <td>15</td>\n      <td>5</td>\n      <td>False</td>\n      <td>294</td>\n    </tr>\n    <tr>\n      <th>14</th>\n      <td>591</td>\n      <td>Amoonguss</td>\n      <td>Grass</td>\n      <td>Poison</td>\n      <td>114</td>\n      <td>85</td>\n      <td>70</td>\n      <td>85</td>\n      <td>80</td>\n      <td>30</td>\n      <td>5</td>\n      <td>False</td>\n      <td>464</td>\n    </tr>\n  </tbody>\n</table>\n</div>"
     },
     "metadata": {},
     "execution_count": 20
    }
   ],
   "source": [
    "legendarySorted = legendarySorted.loc[legendarySorted['Legendary'] == True]\n",
    "#legendarySorted.to_csv('only_legendary.csv', index = False)\n",
    "##Grass and Poison\n",
    "poke_grass_poison = poke.loc[(poke['Type 1'] == 'Grass') & (poke['Type 2'] == 'Poison')]\n",
    "poke_grass_poison.sort_values('Name', ascending = True)\n",
    "poke_grass_poison.reset_index(drop = True, inplace = True)\n",
    "poke_grass_poison\n",
    "#poke_grass_poison.to_csv('Grass Poison types Pokemons.csv', index = False)"
   ]
  },
  {
   "cell_type": "code",
   "execution_count": 24,
   "metadata": {},
   "outputs": [
    {
     "output_type": "execute_result",
     "data": {
      "text/plain": [
       "       #                 Name    Type 1    Type 2   HP  Attack  Defense  \\\n",
       "20    16               Pidgey    Normal    Flying   40      45       40   \n",
       "21    17            Pidgeotto    Normal    Flying   63      60       55   \n",
       "22    18              Pidgeot    Normal    Flying   83      80       75   \n",
       "23    18  PidgeotMega Pidgeot    Normal    Flying   83      80       80   \n",
       "30    25              Pikachu  Electric       NaN   35      55       40   \n",
       "136  127               Pinsir       Bug       NaN   65     125      100   \n",
       "137  127    PinsirMega Pinsir       Bug    Flying   65     155      120   \n",
       "186  172                Pichu  Electric       NaN   20      40       15   \n",
       "219  204               Pineco       Bug       NaN   50      65       90   \n",
       "239  221            Piloswine       Ice    Ground  100     100       80   \n",
       "438  393               Piplup     Water       NaN   53      51       53   \n",
       "558  499              Pignite      Fire  Fighting   90      93       55   \n",
       "578  519               Pidove    Normal    Flying   50      55       50   \n",
       "\n",
       "     Sp. Atk  Sp. Def  Speed  Generation  Legendary  Total  \n",
       "20        35       35     56           1      False    251  \n",
       "21        50       50     71           1      False    349  \n",
       "22        70       70    101           1      False    479  \n",
       "23       135       80    121           1      False    579  \n",
       "30        50       50     90           1      False    320  \n",
       "136       55       70     85           1      False    500  \n",
       "137       65       90    105           1      False    600  \n",
       "186       35       35     60           2      False    205  \n",
       "219       35       35     15           2      False    290  \n",
       "239       60       60     50           2      False    450  \n",
       "438       61       56     40           4      False    314  \n",
       "558       70       55     55           5      False    418  \n",
       "578       36       30     43           5      False    264  "
      ],
      "text/html": "<div>\n<style scoped>\n    .dataframe tbody tr th:only-of-type {\n        vertical-align: middle;\n    }\n\n    .dataframe tbody tr th {\n        vertical-align: top;\n    }\n\n    .dataframe thead th {\n        text-align: right;\n    }\n</style>\n<table border=\"1\" class=\"dataframe\">\n  <thead>\n    <tr style=\"text-align: right;\">\n      <th></th>\n      <th>#</th>\n      <th>Name</th>\n      <th>Type 1</th>\n      <th>Type 2</th>\n      <th>HP</th>\n      <th>Attack</th>\n      <th>Defense</th>\n      <th>Sp. Atk</th>\n      <th>Sp. Def</th>\n      <th>Speed</th>\n      <th>Generation</th>\n      <th>Legendary</th>\n      <th>Total</th>\n    </tr>\n  </thead>\n  <tbody>\n    <tr>\n      <th>20</th>\n      <td>16</td>\n      <td>Pidgey</td>\n      <td>Normal</td>\n      <td>Flying</td>\n      <td>40</td>\n      <td>45</td>\n      <td>40</td>\n      <td>35</td>\n      <td>35</td>\n      <td>56</td>\n      <td>1</td>\n      <td>False</td>\n      <td>251</td>\n    </tr>\n    <tr>\n      <th>21</th>\n      <td>17</td>\n      <td>Pidgeotto</td>\n      <td>Normal</td>\n      <td>Flying</td>\n      <td>63</td>\n      <td>60</td>\n      <td>55</td>\n      <td>50</td>\n      <td>50</td>\n      <td>71</td>\n      <td>1</td>\n      <td>False</td>\n      <td>349</td>\n    </tr>\n    <tr>\n      <th>22</th>\n      <td>18</td>\n      <td>Pidgeot</td>\n      <td>Normal</td>\n      <td>Flying</td>\n      <td>83</td>\n      <td>80</td>\n      <td>75</td>\n      <td>70</td>\n      <td>70</td>\n      <td>101</td>\n      <td>1</td>\n      <td>False</td>\n      <td>479</td>\n    </tr>\n    <tr>\n      <th>23</th>\n      <td>18</td>\n      <td>PidgeotMega Pidgeot</td>\n      <td>Normal</td>\n      <td>Flying</td>\n      <td>83</td>\n      <td>80</td>\n      <td>80</td>\n      <td>135</td>\n      <td>80</td>\n      <td>121</td>\n      <td>1</td>\n      <td>False</td>\n      <td>579</td>\n    </tr>\n    <tr>\n      <th>30</th>\n      <td>25</td>\n      <td>Pikachu</td>\n      <td>Electric</td>\n      <td>NaN</td>\n      <td>35</td>\n      <td>55</td>\n      <td>40</td>\n      <td>50</td>\n      <td>50</td>\n      <td>90</td>\n      <td>1</td>\n      <td>False</td>\n      <td>320</td>\n    </tr>\n    <tr>\n      <th>136</th>\n      <td>127</td>\n      <td>Pinsir</td>\n      <td>Bug</td>\n      <td>NaN</td>\n      <td>65</td>\n      <td>125</td>\n      <td>100</td>\n      <td>55</td>\n      <td>70</td>\n      <td>85</td>\n      <td>1</td>\n      <td>False</td>\n      <td>500</td>\n    </tr>\n    <tr>\n      <th>137</th>\n      <td>127</td>\n      <td>PinsirMega Pinsir</td>\n      <td>Bug</td>\n      <td>Flying</td>\n      <td>65</td>\n      <td>155</td>\n      <td>120</td>\n      <td>65</td>\n      <td>90</td>\n      <td>105</td>\n      <td>1</td>\n      <td>False</td>\n      <td>600</td>\n    </tr>\n    <tr>\n      <th>186</th>\n      <td>172</td>\n      <td>Pichu</td>\n      <td>Electric</td>\n      <td>NaN</td>\n      <td>20</td>\n      <td>40</td>\n      <td>15</td>\n      <td>35</td>\n      <td>35</td>\n      <td>60</td>\n      <td>2</td>\n      <td>False</td>\n      <td>205</td>\n    </tr>\n    <tr>\n      <th>219</th>\n      <td>204</td>\n      <td>Pineco</td>\n      <td>Bug</td>\n      <td>NaN</td>\n      <td>50</td>\n      <td>65</td>\n      <td>90</td>\n      <td>35</td>\n      <td>35</td>\n      <td>15</td>\n      <td>2</td>\n      <td>False</td>\n      <td>290</td>\n    </tr>\n    <tr>\n      <th>239</th>\n      <td>221</td>\n      <td>Piloswine</td>\n      <td>Ice</td>\n      <td>Ground</td>\n      <td>100</td>\n      <td>100</td>\n      <td>80</td>\n      <td>60</td>\n      <td>60</td>\n      <td>50</td>\n      <td>2</td>\n      <td>False</td>\n      <td>450</td>\n    </tr>\n    <tr>\n      <th>438</th>\n      <td>393</td>\n      <td>Piplup</td>\n      <td>Water</td>\n      <td>NaN</td>\n      <td>53</td>\n      <td>51</td>\n      <td>53</td>\n      <td>61</td>\n      <td>56</td>\n      <td>40</td>\n      <td>4</td>\n      <td>False</td>\n      <td>314</td>\n    </tr>\n    <tr>\n      <th>558</th>\n      <td>499</td>\n      <td>Pignite</td>\n      <td>Fire</td>\n      <td>Fighting</td>\n      <td>90</td>\n      <td>93</td>\n      <td>55</td>\n      <td>70</td>\n      <td>55</td>\n      <td>55</td>\n      <td>5</td>\n      <td>False</td>\n      <td>418</td>\n    </tr>\n    <tr>\n      <th>578</th>\n      <td>519</td>\n      <td>Pidove</td>\n      <td>Normal</td>\n      <td>Flying</td>\n      <td>50</td>\n      <td>55</td>\n      <td>50</td>\n      <td>36</td>\n      <td>30</td>\n      <td>43</td>\n      <td>5</td>\n      <td>False</td>\n      <td>264</td>\n    </tr>\n  </tbody>\n</table>\n</div>"
     },
     "metadata": {},
     "execution_count": 24
    }
   ],
   "source": [
    "##Filtering with name \n",
    "poke.loc[poke['Name'].str.contains('^pi[a-z]*', flags=re.I, regex=True)]"
   ]
  },
  {
   "source": [
    "<h2>Conditional Changes</h2>"
   ],
   "cell_type": "markdown",
   "metadata": {}
  },
  {
   "cell_type": "code",
   "execution_count": 29,
   "metadata": {},
   "outputs": [
    {
     "output_type": "execute_result",
     "data": {
      "text/plain": [
       "       #                   Name   Type 1  Type 2  HP  Attack  Defense  \\\n",
       "0      1              Bulbasaur    Grass  Poison  45      49       49   \n",
       "1      2                Ivysaur    Grass  Poison  60      62       63   \n",
       "2      3               Venusaur    Grass  Poison  80      82       83   \n",
       "3      3  VenusaurMega Venusaur    Grass  Poison  80     100      123   \n",
       "4      4             Charmander     Fire     NaN  39      52       43   \n",
       "..   ...                    ...      ...     ...  ..     ...      ...   \n",
       "795  719                Diancie     Rock   Fairy  50     100      150   \n",
       "796  719    DiancieMega Diancie     Rock   Fairy  50     160      110   \n",
       "797  720    HoopaHoopa Confined  Psychic   Ghost  80     110       60   \n",
       "798  720     HoopaHoopa Unbound  Psychic    Dark  80     160       60   \n",
       "799  721              Volcanion     Fire   Water  80     110      120   \n",
       "\n",
       "     Sp. Atk  Sp. Def  Speed  Generation  Legendary  Total  \n",
       "0         65       65     45           1      False    318  \n",
       "1         80       80     60           1      False    405  \n",
       "2        100      100     80           1      False    525  \n",
       "3        122      120     80           1      False    625  \n",
       "4         60       50     65           1      False    309  \n",
       "..       ...      ...    ...         ...        ...    ...  \n",
       "795      100      150     50           6       True    600  \n",
       "796      160      110    110           6       True    700  \n",
       "797      150      130     70           6       True    600  \n",
       "798      170      130     80           6       True    680  \n",
       "799      130       90     70           6       True    600  \n",
       "\n",
       "[800 rows x 13 columns]"
      ],
      "text/html": "<div>\n<style scoped>\n    .dataframe tbody tr th:only-of-type {\n        vertical-align: middle;\n    }\n\n    .dataframe tbody tr th {\n        vertical-align: top;\n    }\n\n    .dataframe thead th {\n        text-align: right;\n    }\n</style>\n<table border=\"1\" class=\"dataframe\">\n  <thead>\n    <tr style=\"text-align: right;\">\n      <th></th>\n      <th>#</th>\n      <th>Name</th>\n      <th>Type 1</th>\n      <th>Type 2</th>\n      <th>HP</th>\n      <th>Attack</th>\n      <th>Defense</th>\n      <th>Sp. Atk</th>\n      <th>Sp. Def</th>\n      <th>Speed</th>\n      <th>Generation</th>\n      <th>Legendary</th>\n      <th>Total</th>\n    </tr>\n  </thead>\n  <tbody>\n    <tr>\n      <th>0</th>\n      <td>1</td>\n      <td>Bulbasaur</td>\n      <td>Grass</td>\n      <td>Poison</td>\n      <td>45</td>\n      <td>49</td>\n      <td>49</td>\n      <td>65</td>\n      <td>65</td>\n      <td>45</td>\n      <td>1</td>\n      <td>False</td>\n      <td>318</td>\n    </tr>\n    <tr>\n      <th>1</th>\n      <td>2</td>\n      <td>Ivysaur</td>\n      <td>Grass</td>\n      <td>Poison</td>\n      <td>60</td>\n      <td>62</td>\n      <td>63</td>\n      <td>80</td>\n      <td>80</td>\n      <td>60</td>\n      <td>1</td>\n      <td>False</td>\n      <td>405</td>\n    </tr>\n    <tr>\n      <th>2</th>\n      <td>3</td>\n      <td>Venusaur</td>\n      <td>Grass</td>\n      <td>Poison</td>\n      <td>80</td>\n      <td>82</td>\n      <td>83</td>\n      <td>100</td>\n      <td>100</td>\n      <td>80</td>\n      <td>1</td>\n      <td>False</td>\n      <td>525</td>\n    </tr>\n    <tr>\n      <th>3</th>\n      <td>3</td>\n      <td>VenusaurMega Venusaur</td>\n      <td>Grass</td>\n      <td>Poison</td>\n      <td>80</td>\n      <td>100</td>\n      <td>123</td>\n      <td>122</td>\n      <td>120</td>\n      <td>80</td>\n      <td>1</td>\n      <td>False</td>\n      <td>625</td>\n    </tr>\n    <tr>\n      <th>4</th>\n      <td>4</td>\n      <td>Charmander</td>\n      <td>Fire</td>\n      <td>NaN</td>\n      <td>39</td>\n      <td>52</td>\n      <td>43</td>\n      <td>60</td>\n      <td>50</td>\n      <td>65</td>\n      <td>1</td>\n      <td>False</td>\n      <td>309</td>\n    </tr>\n    <tr>\n      <th>...</th>\n      <td>...</td>\n      <td>...</td>\n      <td>...</td>\n      <td>...</td>\n      <td>...</td>\n      <td>...</td>\n      <td>...</td>\n      <td>...</td>\n      <td>...</td>\n      <td>...</td>\n      <td>...</td>\n      <td>...</td>\n      <td>...</td>\n    </tr>\n    <tr>\n      <th>795</th>\n      <td>719</td>\n      <td>Diancie</td>\n      <td>Rock</td>\n      <td>Fairy</td>\n      <td>50</td>\n      <td>100</td>\n      <td>150</td>\n      <td>100</td>\n      <td>150</td>\n      <td>50</td>\n      <td>6</td>\n      <td>True</td>\n      <td>600</td>\n    </tr>\n    <tr>\n      <th>796</th>\n      <td>719</td>\n      <td>DiancieMega Diancie</td>\n      <td>Rock</td>\n      <td>Fairy</td>\n      <td>50</td>\n      <td>160</td>\n      <td>110</td>\n      <td>160</td>\n      <td>110</td>\n      <td>110</td>\n      <td>6</td>\n      <td>True</td>\n      <td>700</td>\n    </tr>\n    <tr>\n      <th>797</th>\n      <td>720</td>\n      <td>HoopaHoopa Confined</td>\n      <td>Psychic</td>\n      <td>Ghost</td>\n      <td>80</td>\n      <td>110</td>\n      <td>60</td>\n      <td>150</td>\n      <td>130</td>\n      <td>70</td>\n      <td>6</td>\n      <td>True</td>\n      <td>600</td>\n    </tr>\n    <tr>\n      <th>798</th>\n      <td>720</td>\n      <td>HoopaHoopa Unbound</td>\n      <td>Psychic</td>\n      <td>Dark</td>\n      <td>80</td>\n      <td>160</td>\n      <td>60</td>\n      <td>170</td>\n      <td>130</td>\n      <td>80</td>\n      <td>6</td>\n      <td>True</td>\n      <td>680</td>\n    </tr>\n    <tr>\n      <th>799</th>\n      <td>721</td>\n      <td>Volcanion</td>\n      <td>Fire</td>\n      <td>Water</td>\n      <td>80</td>\n      <td>110</td>\n      <td>120</td>\n      <td>130</td>\n      <td>90</td>\n      <td>70</td>\n      <td>6</td>\n      <td>True</td>\n      <td>600</td>\n    </tr>\n  </tbody>\n</table>\n<p>800 rows × 13 columns</p>\n</div>"
     },
     "metadata": {},
     "execution_count": 29
    }
   ],
   "source": [
    "poke.loc[poke['Type 1']=='Flamer', 'Type 1'] = 'Fire'\n",
    "poke\n"
   ]
  },
  {
   "source": [
    "<h2>Aggrefare Statistics (Groupby)</h2>"
   ],
   "cell_type": "markdown",
   "metadata": {}
  },
  {
   "cell_type": "code",
   "execution_count": null,
   "metadata": {},
   "outputs": [],
   "source": []
  }
 ],
 "metadata": {
  "kernelspec": {
   "name": "python3",
   "display_name": "Python 3.8.5 64-bit ('venv')",
   "metadata": {
    "interpreter": {
     "hash": "ebf769d85ab113ce2acdc366c088558d5cdca8791dc497bf248c4be11f8de959"
    }
   }
  },
  "language_info": {
   "codemirror_mode": {
    "name": "ipython",
    "version": 3
   },
   "file_extension": ".py",
   "mimetype": "text/x-python",
   "name": "python",
   "nbconvert_exporter": "python",
   "pygments_lexer": "ipython3",
   "version": "3.8.5-final"
  }
 },
 "nbformat": 4,
 "nbformat_minor": 4
}