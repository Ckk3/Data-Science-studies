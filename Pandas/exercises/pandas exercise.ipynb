{
 "cells": [
  {
   "cell_type": "markdown",
   "metadata": {
    "collapsed": true,
    "pycharm": {
     "name": "#%% md\n"
    }
   },
   "source": [
    "<h1>Sales Analysis</h1>"
   ]
  },
  {
   "cell_type": "code",
   "execution_count": 6,
   "outputs": [],
   "source": [
    "import pandas as pd\n",
    "from IPython.display import display\n",
    "import os"
   ],
   "metadata": {
    "collapsed": false,
    "pycharm": {
     "name": "#%%\n"
    }
   }
  },
  {
   "cell_type": "markdown",
   "source": [
    "<h2>Merging 12 months of sales data into a single file </h2>"
   ],
   "metadata": {
    "collapsed": false,
    "pycharm": {
     "name": "#%% md\n"
    }
   }
  },
  {
   "cell_type": "code",
   "execution_count": 26,
   "outputs": [
    {
     "data": {
      "text/plain": "      Order ID                     Product Quantity Ordered Price Each  \\\n0       176558        USB-C Charging Cable                2      11.95   \n1          NaN                         NaN              NaN        NaN   \n2       176559  Bose SoundSport Headphones                1      99.99   \n3       176560                Google Phone                1        600   \n4       176560            Wired Headphones                1      11.99   \n...        ...                         ...              ...        ...   \n11681   259353      AAA Batteries (4-pack)                3       2.99   \n11682   259354                      iPhone                1        700   \n11683   259355                      iPhone                1        700   \n11684   259356      34in Ultrawide Monitor                1     379.99   \n11685   259357        USB-C Charging Cable                1      11.95   \n\n           Order Date                         Purchase Address  \n0      04/19/19 08:46             917 1st St, Dallas, TX 75001  \n1                 NaN                                      NaN  \n2      04/07/19 22:30        682 Chestnut St, Boston, MA 02215  \n3      04/12/19 14:38     669 Spruce St, Los Angeles, CA 90001  \n4      04/12/19 14:38     669 Spruce St, Los Angeles, CA 90001  \n...               ...                                      ...  \n11681  09/17/19 20:56   840 Highland St, Los Angeles, CA 90001  \n11682  09/01/19 16:00  216 Dogwood St, San Francisco, CA 94016  \n11683  09/23/19 07:39     220 12th St, San Francisco, CA 94016  \n11684  09/19/19 17:30   511 Forest St, San Francisco, CA 94016  \n11685  09/30/19 00:18   250 Meadow St, San Francisco, CA 94016  \n\n[186850 rows x 6 columns]",
      "text/html": "<div>\n<style scoped>\n    .dataframe tbody tr th:only-of-type {\n        vertical-align: middle;\n    }\n\n    .dataframe tbody tr th {\n        vertical-align: top;\n    }\n\n    .dataframe thead th {\n        text-align: right;\n    }\n</style>\n<table border=\"1\" class=\"dataframe\">\n  <thead>\n    <tr style=\"text-align: right;\">\n      <th></th>\n      <th>Order ID</th>\n      <th>Product</th>\n      <th>Quantity Ordered</th>\n      <th>Price Each</th>\n      <th>Order Date</th>\n      <th>Purchase Address</th>\n    </tr>\n  </thead>\n  <tbody>\n    <tr>\n      <th>0</th>\n      <td>176558</td>\n      <td>USB-C Charging Cable</td>\n      <td>2</td>\n      <td>11.95</td>\n      <td>04/19/19 08:46</td>\n      <td>917 1st St, Dallas, TX 75001</td>\n    </tr>\n    <tr>\n      <th>1</th>\n      <td>NaN</td>\n      <td>NaN</td>\n      <td>NaN</td>\n      <td>NaN</td>\n      <td>NaN</td>\n      <td>NaN</td>\n    </tr>\n    <tr>\n      <th>2</th>\n      <td>176559</td>\n      <td>Bose SoundSport Headphones</td>\n      <td>1</td>\n      <td>99.99</td>\n      <td>04/07/19 22:30</td>\n      <td>682 Chestnut St, Boston, MA 02215</td>\n    </tr>\n    <tr>\n      <th>3</th>\n      <td>176560</td>\n      <td>Google Phone</td>\n      <td>1</td>\n      <td>600</td>\n      <td>04/12/19 14:38</td>\n      <td>669 Spruce St, Los Angeles, CA 90001</td>\n    </tr>\n    <tr>\n      <th>4</th>\n      <td>176560</td>\n      <td>Wired Headphones</td>\n      <td>1</td>\n      <td>11.99</td>\n      <td>04/12/19 14:38</td>\n      <td>669 Spruce St, Los Angeles, CA 90001</td>\n    </tr>\n    <tr>\n      <th>...</th>\n      <td>...</td>\n      <td>...</td>\n      <td>...</td>\n      <td>...</td>\n      <td>...</td>\n      <td>...</td>\n    </tr>\n    <tr>\n      <th>11681</th>\n      <td>259353</td>\n      <td>AAA Batteries (4-pack)</td>\n      <td>3</td>\n      <td>2.99</td>\n      <td>09/17/19 20:56</td>\n      <td>840 Highland St, Los Angeles, CA 90001</td>\n    </tr>\n    <tr>\n      <th>11682</th>\n      <td>259354</td>\n      <td>iPhone</td>\n      <td>1</td>\n      <td>700</td>\n      <td>09/01/19 16:00</td>\n      <td>216 Dogwood St, San Francisco, CA 94016</td>\n    </tr>\n    <tr>\n      <th>11683</th>\n      <td>259355</td>\n      <td>iPhone</td>\n      <td>1</td>\n      <td>700</td>\n      <td>09/23/19 07:39</td>\n      <td>220 12th St, San Francisco, CA 94016</td>\n    </tr>\n    <tr>\n      <th>11684</th>\n      <td>259356</td>\n      <td>34in Ultrawide Monitor</td>\n      <td>1</td>\n      <td>379.99</td>\n      <td>09/19/19 17:30</td>\n      <td>511 Forest St, San Francisco, CA 94016</td>\n    </tr>\n    <tr>\n      <th>11685</th>\n      <td>259357</td>\n      <td>USB-C Charging Cable</td>\n      <td>1</td>\n      <td>11.95</td>\n      <td>09/30/19 00:18</td>\n      <td>250 Meadow St, San Francisco, CA 94016</td>\n    </tr>\n  </tbody>\n</table>\n<p>186850 rows × 6 columns</p>\n</div>"
     },
     "metadata": {},
     "output_type": "display_data"
    }
   ],
   "source": [
    "#files = []\n",
    "#for file in os.listdir('./Sales_Data'):\n",
    "#    files.append(pd.read_csv(f'./Sales_Data/{file}'))\n",
    "\n",
    "files = [pd.read_csv(f'./Sales_Data/{file}') for file in os.listdir('./Sales_Data')]\n",
    "\n",
    "allMonthsDF = pd.concat(files)\n",
    "allMonthsDF.to_csv('allMonthsDF.csv')"
   ],
   "metadata": {
    "collapsed": false,
    "pycharm": {
     "name": "#%%\n"
    }
   }
  },
  {
   "cell_type": "markdown",
   "source": [
    "<h3>Read the updated csv</h3>"
   ],
   "metadata": {
    "collapsed": false,
    "pycharm": {
     "name": "#%% md\n"
    }
   }
  },
  {
   "cell_type": "code",
   "source": [
    "all_data = pd.read_csv('allMonthsDF.csv')"
   ],
   "metadata": {
    "collapsed": false,
    "pycharm": {
     "name": "#%%\n"
    }
   },
   "execution_count": 31,
   "outputs": []
  },
  {
   "cell_type": "markdown",
   "source": [
    "<h2> Question 1: What was the best month for sales? How much was earned that month?</h2>"
   ],
   "metadata": {
    "collapsed": false,
    "pycharm": {
     "name": "#%% md\n"
    }
   }
  },
  {
   "cell_type": "markdown",
   "source": [
    "<h3> The best month for sales"
   ],
   "metadata": {
    "collapsed": false,
    "pycharm": {
     "name": "#%% md\n"
    }
   }
  },
  {
   "cell_type": "code",
   "execution_count": 61,
   "outputs": [
    {
     "ename": "TypeError",
     "evalue": "'DataFrame' object is not callable",
     "output_type": "error",
     "traceback": [
      "\u001B[1;31m---------------------------------------------------------------------------\u001B[0m",
      "\u001B[1;31mTypeError\u001B[0m                                 Traceback (most recent call last)",
      "\u001B[1;32m<ipython-input-61-f8c93256faa0>\u001B[0m in \u001B[0;36m<module>\u001B[1;34m\u001B[0m\n\u001B[0;32m      1\u001B[0m \u001B[0mselected_sales_data\u001B[0m \u001B[1;33m=\u001B[0m \u001B[0mall_data\u001B[0m\u001B[1;33m[\u001B[0m\u001B[1;33m[\u001B[0m\u001B[1;34m'Order Date'\u001B[0m\u001B[1;33m,\u001B[0m \u001B[1;34m'Quantity Ordered'\u001B[0m\u001B[1;33m,\u001B[0m \u001B[1;34m'Price Each'\u001B[0m\u001B[1;33m]\u001B[0m\u001B[1;33m]\u001B[0m\u001B[1;33m\u001B[0m\u001B[1;33m\u001B[0m\u001B[0m\n\u001B[1;32m----> 2\u001B[1;33m \u001B[0mselected_sales_data\u001B[0m \u001B[1;33m=\u001B[0m \u001B[0mselected_sales_data\u001B[0m\u001B[1;33m(\u001B[0m\u001B[0mindex\u001B[0m\u001B[1;33m=\u001B[0m\u001B[1;32mFalse\u001B[0m\u001B[1;33m)\u001B[0m\u001B[1;33m\u001B[0m\u001B[1;33m\u001B[0m\u001B[0m\n\u001B[0m\u001B[0;32m      3\u001B[0m \u001B[1;31m#print(len(selected_sales_data))\u001B[0m\u001B[1;33m\u001B[0m\u001B[1;33m\u001B[0m\u001B[1;33m\u001B[0m\u001B[0m\n\u001B[0;32m      4\u001B[0m \u001B[0mselected_sales_data\u001B[0m\u001B[1;33m[\u001B[0m\u001B[1;34m'Order Date'\u001B[0m\u001B[1;33m]\u001B[0m\u001B[1;33m\u001B[0m\u001B[1;33m\u001B[0m\u001B[0m\n\u001B[0;32m      5\u001B[0m \u001B[1;33m\u001B[0m\u001B[0m\n",
      "\u001B[1;31mTypeError\u001B[0m: 'DataFrame' object is not callable"
     ]
    }
   ],
   "source": [
    "selected_sales_data = all_data[['Order Date', 'Quantity Ordered', 'Price Each']]\n",
    "selected_sales_data['Order Date']\n"
   ],
   "metadata": {
    "collapsed": false,
    "pycharm": {
     "name": "#%%\n"
    }
   }
  }
 ],
 "metadata": {
  "kernelspec": {
   "display_name": "Python 3",
   "language": "python",
   "name": "python3"
  },
  "language_info": {
   "codemirror_mode": {
    "name": "ipython",
    "version": 2
   },
   "file_extension": ".py",
   "mimetype": "text/x-python",
   "name": "python",
   "nbconvert_exporter": "python",
   "pygments_lexer": "ipython2",
   "version": "2.7.6"
  }
 },
 "nbformat": 4,
 "nbformat_minor": 0
}