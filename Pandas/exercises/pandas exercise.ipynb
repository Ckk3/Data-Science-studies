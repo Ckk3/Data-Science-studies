{
 "cells": [
  {
   "cell_type": "markdown",
   "metadata": {
    "collapsed": true,
    "pycharm": {
     "name": "#%% md\n"
    }
   },
   "source": [
    "<h1>Sales Analysis</h1>"
   ]
  },
  {
   "cell_type": "code",
   "execution_count": 98,
   "outputs": [],
   "source": [
    "import pandas as pd\n",
    "from IPython.display import display\n",
    "import os\n",
    "import matplotlib.pyplot as plt"
   ],
   "metadata": {
    "collapsed": false,
    "pycharm": {
     "name": "#%%\n"
    }
   }
  },
  {
   "cell_type": "markdown",
   "source": [
    "<h2>Merging 12 months of sales data into a single file </h2>"
   ],
   "metadata": {
    "collapsed": false,
    "pycharm": {
     "name": "#%% md\n"
    }
   }
  },
  {
   "cell_type": "code",
   "execution_count": 26,
   "outputs": [
    {
     "data": {
      "text/plain": "      Order ID                     Product Quantity Ordered Price Each  \\\n0       176558        USB-C Charging Cable                2      11.95   \n1          NaN                         NaN              NaN        NaN   \n2       176559  Bose SoundSport Headphones                1      99.99   \n3       176560                Google Phone                1        600   \n4       176560            Wired Headphones                1      11.99   \n...        ...                         ...              ...        ...   \n11681   259353      AAA Batteries (4-pack)                3       2.99   \n11682   259354                      iPhone                1        700   \n11683   259355                      iPhone                1        700   \n11684   259356      34in Ultrawide Monitor                1     379.99   \n11685   259357        USB-C Charging Cable                1      11.95   \n\n           Order Date                         Purchase Address  \n0      04/19/19 08:46             917 1st St, Dallas, TX 75001  \n1                 NaN                                      NaN  \n2      04/07/19 22:30        682 Chestnut St, Boston, MA 02215  \n3      04/12/19 14:38     669 Spruce St, Los Angeles, CA 90001  \n4      04/12/19 14:38     669 Spruce St, Los Angeles, CA 90001  \n...               ...                                      ...  \n11681  09/17/19 20:56   840 Highland St, Los Angeles, CA 90001  \n11682  09/01/19 16:00  216 Dogwood St, San Francisco, CA 94016  \n11683  09/23/19 07:39     220 12th St, San Francisco, CA 94016  \n11684  09/19/19 17:30   511 Forest St, San Francisco, CA 94016  \n11685  09/30/19 00:18   250 Meadow St, San Francisco, CA 94016  \n\n[186850 rows x 6 columns]",
      "text/html": "<div>\n<style scoped>\n    .dataframe tbody tr th:only-of-type {\n        vertical-align: middle;\n    }\n\n    .dataframe tbody tr th {\n        vertical-align: top;\n    }\n\n    .dataframe thead th {\n        text-align: right;\n    }\n</style>\n<table border=\"1\" class=\"dataframe\">\n  <thead>\n    <tr style=\"text-align: right;\">\n      <th></th>\n      <th>Order ID</th>\n      <th>Product</th>\n      <th>Quantity Ordered</th>\n      <th>Price Each</th>\n      <th>Order Date</th>\n      <th>Purchase Address</th>\n    </tr>\n  </thead>\n  <tbody>\n    <tr>\n      <th>0</th>\n      <td>176558</td>\n      <td>USB-C Charging Cable</td>\n      <td>2</td>\n      <td>11.95</td>\n      <td>04/19/19 08:46</td>\n      <td>917 1st St, Dallas, TX 75001</td>\n    </tr>\n    <tr>\n      <th>1</th>\n      <td>NaN</td>\n      <td>NaN</td>\n      <td>NaN</td>\n      <td>NaN</td>\n      <td>NaN</td>\n      <td>NaN</td>\n    </tr>\n    <tr>\n      <th>2</th>\n      <td>176559</td>\n      <td>Bose SoundSport Headphones</td>\n      <td>1</td>\n      <td>99.99</td>\n      <td>04/07/19 22:30</td>\n      <td>682 Chestnut St, Boston, MA 02215</td>\n    </tr>\n    <tr>\n      <th>3</th>\n      <td>176560</td>\n      <td>Google Phone</td>\n      <td>1</td>\n      <td>600</td>\n      <td>04/12/19 14:38</td>\n      <td>669 Spruce St, Los Angeles, CA 90001</td>\n    </tr>\n    <tr>\n      <th>4</th>\n      <td>176560</td>\n      <td>Wired Headphones</td>\n      <td>1</td>\n      <td>11.99</td>\n      <td>04/12/19 14:38</td>\n      <td>669 Spruce St, Los Angeles, CA 90001</td>\n    </tr>\n    <tr>\n      <th>...</th>\n      <td>...</td>\n      <td>...</td>\n      <td>...</td>\n      <td>...</td>\n      <td>...</td>\n      <td>...</td>\n    </tr>\n    <tr>\n      <th>11681</th>\n      <td>259353</td>\n      <td>AAA Batteries (4-pack)</td>\n      <td>3</td>\n      <td>2.99</td>\n      <td>09/17/19 20:56</td>\n      <td>840 Highland St, Los Angeles, CA 90001</td>\n    </tr>\n    <tr>\n      <th>11682</th>\n      <td>259354</td>\n      <td>iPhone</td>\n      <td>1</td>\n      <td>700</td>\n      <td>09/01/19 16:00</td>\n      <td>216 Dogwood St, San Francisco, CA 94016</td>\n    </tr>\n    <tr>\n      <th>11683</th>\n      <td>259355</td>\n      <td>iPhone</td>\n      <td>1</td>\n      <td>700</td>\n      <td>09/23/19 07:39</td>\n      <td>220 12th St, San Francisco, CA 94016</td>\n    </tr>\n    <tr>\n      <th>11684</th>\n      <td>259356</td>\n      <td>34in Ultrawide Monitor</td>\n      <td>1</td>\n      <td>379.99</td>\n      <td>09/19/19 17:30</td>\n      <td>511 Forest St, San Francisco, CA 94016</td>\n    </tr>\n    <tr>\n      <th>11685</th>\n      <td>259357</td>\n      <td>USB-C Charging Cable</td>\n      <td>1</td>\n      <td>11.95</td>\n      <td>09/30/19 00:18</td>\n      <td>250 Meadow St, San Francisco, CA 94016</td>\n    </tr>\n  </tbody>\n</table>\n<p>186850 rows × 6 columns</p>\n</div>"
     },
     "metadata": {},
     "output_type": "display_data"
    }
   ],
   "source": [
    "#files = []\n",
    "#for file in os.listdir('./Sales_Data'):\n",
    "#    files.append(pd.read_csv(f'./Sales_Data/{file}'))\n",
    "\n",
    "files = [pd.read_csv(f'./Sales_Data/{file}') for file in os.listdir('./Sales_Data')]\n",
    "\n",
    "allMonthsDF = pd.concat(files)\n",
    "allMonthsDF.to_csv('allMonthsDF.csv')"
   ],
   "metadata": {
    "collapsed": false,
    "pycharm": {
     "name": "#%%\n"
    }
   }
  },
  {
   "cell_type": "markdown",
   "source": [
    "<h3>Read the updated csv</h3>"
   ],
   "metadata": {
    "collapsed": false,
    "pycharm": {
     "name": "#%% md\n"
    }
   }
  },
  {
   "cell_type": "code",
   "source": [
    "all_data = pd.read_csv('allMonthsDF.csv')"
   ],
   "metadata": {
    "collapsed": false,
    "pycharm": {
     "name": "#%%\n"
    }
   },
   "execution_count": 69,
   "outputs": []
  },
  {
   "cell_type": "markdown",
   "source": [
    "<h4>Cleaning Data</h4>"
   ],
   "metadata": {
    "collapsed": false,
    "pycharm": {
     "name": "#%% md\n"
    }
   }
  },
  {
   "cell_type": "code",
   "execution_count": 70,
   "outputs": [],
   "source": [
    "#Droping rows with NaN values\n",
    "all_data = all_data.dropna()\n",
    "#Find 'Or' and deleting to avoid errors with month collum\n",
    "all_data = all_data[all_data['Order Date'].str[0:2] != 'Or']\n",
    "#Convert Collumns to the correct type\n",
    "all_data['Quantity Ordered'] = pd.to_numeric(all_data['Quantity Ordered'])\n",
    "all_data['Price Each'] = pd.to_numeric(all_data['Price Each'])"
   ],
   "metadata": {
    "collapsed": false,
    "pycharm": {
     "name": "#%%\n"
    }
   }
  },
  {
   "cell_type": "markdown",
   "source": [
    "<h2> Question 1: What was the best month for sales? How much was earned that month?</h2>"
   ],
   "metadata": {
    "collapsed": false,
    "pycharm": {
     "name": "#%% md\n"
    }
   }
  },
  {
   "cell_type": "markdown",
   "source": [
    "<h3> Creating month collum </h3>"
   ],
   "metadata": {
    "collapsed": false,
    "pycharm": {
     "name": "#%% md\n"
    }
   }
  },
  {
   "cell_type": "code",
   "execution_count": 71,
   "outputs": [],
   "source": [
    "all_data['Month'] = all_data['Order Date'].str[0:2]\n",
    "all_data['Month'] = all_data['Month'].astype('int32')"
   ],
   "metadata": {
    "collapsed": false,
    "pycharm": {
     "name": "#%%\n"
    }
   }
  },
  {
   "cell_type": "markdown",
   "source": [
    "<h3>Creating a sales collum"
   ],
   "metadata": {
    "collapsed": false,
    "pycharm": {
     "name": "#%% md\n"
    }
   }
  },
  {
   "cell_type": "code",
   "execution_count": 75,
   "outputs": [
    {
     "data": {
      "text/plain": "        Unnamed: 0 Order ID                     Product  Quantity Ordered  \\\n0                0   176558        USB-C Charging Cable                 2   \n2                2   176559  Bose SoundSport Headphones                 1   \n3                3   176560                Google Phone                 1   \n4                4   176560            Wired Headphones                 1   \n5                5   176561            Wired Headphones                 1   \n...            ...      ...                         ...               ...   \n186845       11681   259353      AAA Batteries (4-pack)                 3   \n186846       11682   259354                      iPhone                 1   \n186847       11683   259355                      iPhone                 1   \n186848       11684   259356      34in Ultrawide Monitor                 1   \n186849       11685   259357        USB-C Charging Cable                 1   \n\n        Price Each   Sales      Order Date  Month  \\\n0            11.95   23.90  04/19/19 08:46      4   \n2            99.99   99.99  04/07/19 22:30      4   \n3           600.00  600.00  04/12/19 14:38      4   \n4            11.99   11.99  04/12/19 14:38      4   \n5            11.99   11.99  04/30/19 09:27      4   \n...            ...     ...             ...    ...   \n186845        2.99    8.97  09/17/19 20:56      9   \n186846      700.00  700.00  09/01/19 16:00      9   \n186847      700.00  700.00  09/23/19 07:39      9   \n186848      379.99  379.99  09/19/19 17:30      9   \n186849       11.95   11.95  09/30/19 00:18      9   \n\n                               Purchase Address  \n0                  917 1st St, Dallas, TX 75001  \n2             682 Chestnut St, Boston, MA 02215  \n3          669 Spruce St, Los Angeles, CA 90001  \n4          669 Spruce St, Los Angeles, CA 90001  \n5             333 8th St, Los Angeles, CA 90001  \n...                                         ...  \n186845   840 Highland St, Los Angeles, CA 90001  \n186846  216 Dogwood St, San Francisco, CA 94016  \n186847     220 12th St, San Francisco, CA 94016  \n186848   511 Forest St, San Francisco, CA 94016  \n186849   250 Meadow St, San Francisco, CA 94016  \n\n[185950 rows x 9 columns]",
      "text/html": "<div>\n<style scoped>\n    .dataframe tbody tr th:only-of-type {\n        vertical-align: middle;\n    }\n\n    .dataframe tbody tr th {\n        vertical-align: top;\n    }\n\n    .dataframe thead th {\n        text-align: right;\n    }\n</style>\n<table border=\"1\" class=\"dataframe\">\n  <thead>\n    <tr style=\"text-align: right;\">\n      <th></th>\n      <th>Unnamed: 0</th>\n      <th>Order ID</th>\n      <th>Product</th>\n      <th>Quantity Ordered</th>\n      <th>Price Each</th>\n      <th>Sales</th>\n      <th>Order Date</th>\n      <th>Month</th>\n      <th>Purchase Address</th>\n    </tr>\n  </thead>\n  <tbody>\n    <tr>\n      <th>0</th>\n      <td>0</td>\n      <td>176558</td>\n      <td>USB-C Charging Cable</td>\n      <td>2</td>\n      <td>11.95</td>\n      <td>23.90</td>\n      <td>04/19/19 08:46</td>\n      <td>4</td>\n      <td>917 1st St, Dallas, TX 75001</td>\n    </tr>\n    <tr>\n      <th>2</th>\n      <td>2</td>\n      <td>176559</td>\n      <td>Bose SoundSport Headphones</td>\n      <td>1</td>\n      <td>99.99</td>\n      <td>99.99</td>\n      <td>04/07/19 22:30</td>\n      <td>4</td>\n      <td>682 Chestnut St, Boston, MA 02215</td>\n    </tr>\n    <tr>\n      <th>3</th>\n      <td>3</td>\n      <td>176560</td>\n      <td>Google Phone</td>\n      <td>1</td>\n      <td>600.00</td>\n      <td>600.00</td>\n      <td>04/12/19 14:38</td>\n      <td>4</td>\n      <td>669 Spruce St, Los Angeles, CA 90001</td>\n    </tr>\n    <tr>\n      <th>4</th>\n      <td>4</td>\n      <td>176560</td>\n      <td>Wired Headphones</td>\n      <td>1</td>\n      <td>11.99</td>\n      <td>11.99</td>\n      <td>04/12/19 14:38</td>\n      <td>4</td>\n      <td>669 Spruce St, Los Angeles, CA 90001</td>\n    </tr>\n    <tr>\n      <th>5</th>\n      <td>5</td>\n      <td>176561</td>\n      <td>Wired Headphones</td>\n      <td>1</td>\n      <td>11.99</td>\n      <td>11.99</td>\n      <td>04/30/19 09:27</td>\n      <td>4</td>\n      <td>333 8th St, Los Angeles, CA 90001</td>\n    </tr>\n    <tr>\n      <th>...</th>\n      <td>...</td>\n      <td>...</td>\n      <td>...</td>\n      <td>...</td>\n      <td>...</td>\n      <td>...</td>\n      <td>...</td>\n      <td>...</td>\n      <td>...</td>\n    </tr>\n    <tr>\n      <th>186845</th>\n      <td>11681</td>\n      <td>259353</td>\n      <td>AAA Batteries (4-pack)</td>\n      <td>3</td>\n      <td>2.99</td>\n      <td>8.97</td>\n      <td>09/17/19 20:56</td>\n      <td>9</td>\n      <td>840 Highland St, Los Angeles, CA 90001</td>\n    </tr>\n    <tr>\n      <th>186846</th>\n      <td>11682</td>\n      <td>259354</td>\n      <td>iPhone</td>\n      <td>1</td>\n      <td>700.00</td>\n      <td>700.00</td>\n      <td>09/01/19 16:00</td>\n      <td>9</td>\n      <td>216 Dogwood St, San Francisco, CA 94016</td>\n    </tr>\n    <tr>\n      <th>186847</th>\n      <td>11683</td>\n      <td>259355</td>\n      <td>iPhone</td>\n      <td>1</td>\n      <td>700.00</td>\n      <td>700.00</td>\n      <td>09/23/19 07:39</td>\n      <td>9</td>\n      <td>220 12th St, San Francisco, CA 94016</td>\n    </tr>\n    <tr>\n      <th>186848</th>\n      <td>11684</td>\n      <td>259356</td>\n      <td>34in Ultrawide Monitor</td>\n      <td>1</td>\n      <td>379.99</td>\n      <td>379.99</td>\n      <td>09/19/19 17:30</td>\n      <td>9</td>\n      <td>511 Forest St, San Francisco, CA 94016</td>\n    </tr>\n    <tr>\n      <th>186849</th>\n      <td>11685</td>\n      <td>259357</td>\n      <td>USB-C Charging Cable</td>\n      <td>1</td>\n      <td>11.95</td>\n      <td>11.95</td>\n      <td>09/30/19 00:18</td>\n      <td>9</td>\n      <td>250 Meadow St, San Francisco, CA 94016</td>\n    </tr>\n  </tbody>\n</table>\n<p>185950 rows × 9 columns</p>\n</div>"
     },
     "metadata": {},
     "output_type": "display_data"
    }
   ],
   "source": [
    "all_data['Sales'] = all_data['Quantity Ordered'] * all_data['Price Each']\n",
    "##Changing collumns order\n",
    "all_data = all_data[['Unnamed: 0', 'Order ID', 'Product', 'Quantity Ordered', 'Price Each', 'Sales', 'Order Date', 'Month' ,'Purchase Address']]"
   ],
   "metadata": {
    "collapsed": false,
    "pycharm": {
     "name": "#%%\n"
    }
   }
  },
  {
   "cell_type": "markdown",
   "source": [
    "<h3>GroupBy</h3>\n"
   ],
   "metadata": {
    "collapsed": false,
    "pycharm": {
     "name": "#%% md\n"
    }
   }
  },
  {
   "cell_type": "code",
   "execution_count": 104,
   "outputs": [],
   "source": [
    "sales_results = all_data.groupby(by='Month', sort=True).sum()['Sales']"
   ],
   "metadata": {
    "collapsed": false,
    "pycharm": {
     "name": "#%%\n"
    }
   }
  },
  {
   "cell_type": "markdown",
   "source": [
    "<h3>Creating Graphic</h3>"
   ],
   "metadata": {
    "collapsed": false,
    "pycharm": {
     "name": "#%% md\n"
    }
   }
  },
  {
   "cell_type": "code",
   "execution_count": 106,
   "outputs": [
    {
     "data": {
      "text/plain": "<Figure size 432x288 with 1 Axes>",
      "image/png": "[encoded data removed]"
     },
     "metadata": {
      "needs_background": "light"
     },
     "output_type": "display_data"
    }
   ],
   "source": [
    "''\n",
    "months = range(1, 13)\n",
    "\n",
    "plt.bar(months, sales_results)\n",
    "plt.xticks(months)\n",
    "plt.xlabel('Month')\n",
    "plt.ylabel('Sales in USD')\n",
    "plt.show()"
   ],
   "metadata": {
    "collapsed": false,
    "pycharm": {
     "name": "#%%\n"
    }
   }
  }
 ],
 "metadata": {
  "kernelspec": {
   "display_name": "Python 3",
   "language": "python",
   "name": "python3"
  },
  "language_info": {
   "codemirror_mode": {
    "name": "ipython",
    "version": 2
   },
   "file_extension": ".py",
   "mimetype": "text/x-python",
   "name": "python",
   "nbconvert_exporter": "python",
   "pygments_lexer": "ipython2",
   "version": "2.7.6"
  }
 },
 "nbformat": 4,
 "nbformat_minor": 0
}