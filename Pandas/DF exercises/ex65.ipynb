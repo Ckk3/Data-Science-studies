{
 "cells": [
  {
   "cell_type": "markdown",
   "metadata": {
    "collapsed": true,
    "pycharm": {
     "name": "#%% md\n"
    }
   },
   "source": [
    "65. Write a Pandas program to reverse order (rows, columns) of a given DataFrame. Go to the editor\n",
    "Sample Output:\n",
    "Original DataFrame\n",
    "W X Y Z\n",
    "0 68 78 84 86\n",
    "1 75 85 94 97\n",
    "2 86 96 89 96\n",
    "3 80 80 83 72\n",
    "4 66 86 86 83\n",
    "Reverse column order:\n",
    "Z Y X W\n",
    "0 86 84 78 68\n",
    "1 97 94 85 75\n",
    "2 96 89 96 86\n",
    "3 72 83 80 80\n",
    "4 83 86 86 66\n",
    "Reverse row order:\n",
    "W X Y Z\n",
    "4 66 86 86 83\n",
    "3 80 80 83 72\n",
    "2 86 96 89 96\n",
    "1 75 85 94 97\n",
    "0 68 78 84 86\n",
    "Reverse row order and reset index:\n",
    "W X Y Z\n",
    "0 66 86 86 83\n",
    "1 80 80 83 72\n",
    "2 86 96 89 96\n",
    "3 75 85 94 97\n",
    "4 68 78 84 86"
   ]
  },
  {
   "cell_type": "code",
   "execution_count": 1,
   "outputs": [],
   "source": [
    "import pandas as pd\n",
    "from IPython.display import display"
   ],
   "metadata": {
    "collapsed": false,
    "pycharm": {
     "name": "#%%\n"
    }
   }
  },
  {
   "cell_type": "code",
   "execution_count": 8,
   "outputs": [
    {
     "name": "stdout",
     "output_type": "stream",
     "text": [
      "Default DataFrame\n",
      "DataFrame with reversed columns\n",
      "DataFrama with reversed rows\n",
      "DataFrame with reversed rows and reversed index\n"
     ]
    },
    {
     "data": {
      "text/plain": "    W   X   Y   Z\n0  68  78  84  86\n1  75  85  94  97\n2  86  96  89  96\n3  80  80  83  72\n4  66  86  86  83",
      "text/html": "<div>\n<style scoped>\n    .dataframe tbody tr th:only-of-type {\n        vertical-align: middle;\n    }\n\n    .dataframe tbody tr th {\n        vertical-align: top;\n    }\n\n    .dataframe thead th {\n        text-align: right;\n    }\n</style>\n<table border=\"1\" class=\"dataframe\">\n  <thead>\n    <tr style=\"text-align: right;\">\n      <th></th>\n      <th>W</th>\n      <th>X</th>\n      <th>Y</th>\n      <th>Z</th>\n    </tr>\n  </thead>\n  <tbody>\n    <tr>\n      <th>0</th>\n      <td>68</td>\n      <td>78</td>\n      <td>84</td>\n      <td>86</td>\n    </tr>\n    <tr>\n      <th>1</th>\n      <td>75</td>\n      <td>85</td>\n      <td>94</td>\n      <td>97</td>\n    </tr>\n    <tr>\n      <th>2</th>\n      <td>86</td>\n      <td>96</td>\n      <td>89</td>\n      <td>96</td>\n    </tr>\n    <tr>\n      <th>3</th>\n      <td>80</td>\n      <td>80</td>\n      <td>83</td>\n      <td>72</td>\n    </tr>\n    <tr>\n      <th>4</th>\n      <td>66</td>\n      <td>86</td>\n      <td>86</td>\n      <td>83</td>\n    </tr>\n  </tbody>\n</table>\n</div>"
     },
     "metadata": {},
     "output_type": "display_data"
    },
    {
     "data": {
      "text/plain": "    Z   Y   X   W\n0  86  84  78  68\n1  97  94  85  75\n2  96  89  96  86\n3  72  83  80  80\n4  83  86  86  66",
      "text/html": "<div>\n<style scoped>\n    .dataframe tbody tr th:only-of-type {\n        vertical-align: middle;\n    }\n\n    .dataframe tbody tr th {\n        vertical-align: top;\n    }\n\n    .dataframe thead th {\n        text-align: right;\n    }\n</style>\n<table border=\"1\" class=\"dataframe\">\n  <thead>\n    <tr style=\"text-align: right;\">\n      <th></th>\n      <th>Z</th>\n      <th>Y</th>\n      <th>X</th>\n      <th>W</th>\n    </tr>\n  </thead>\n  <tbody>\n    <tr>\n      <th>0</th>\n      <td>86</td>\n      <td>84</td>\n      <td>78</td>\n      <td>68</td>\n    </tr>\n    <tr>\n      <th>1</th>\n      <td>97</td>\n      <td>94</td>\n      <td>85</td>\n      <td>75</td>\n    </tr>\n    <tr>\n      <th>2</th>\n      <td>96</td>\n      <td>89</td>\n      <td>96</td>\n      <td>86</td>\n    </tr>\n    <tr>\n      <th>3</th>\n      <td>72</td>\n      <td>83</td>\n      <td>80</td>\n      <td>80</td>\n    </tr>\n    <tr>\n      <th>4</th>\n      <td>83</td>\n      <td>86</td>\n      <td>86</td>\n      <td>66</td>\n    </tr>\n  </tbody>\n</table>\n</div>"
     },
     "metadata": {},
     "output_type": "display_data"
    },
    {
     "data": {
      "text/plain": "    W   X   Y   Z\n4  66  86  86  83\n3  80  80  83  72\n2  86  96  89  96\n1  75  85  94  97\n0  68  78  84  86",
      "text/html": "<div>\n<style scoped>\n    .dataframe tbody tr th:only-of-type {\n        vertical-align: middle;\n    }\n\n    .dataframe tbody tr th {\n        vertical-align: top;\n    }\n\n    .dataframe thead th {\n        text-align: right;\n    }\n</style>\n<table border=\"1\" class=\"dataframe\">\n  <thead>\n    <tr style=\"text-align: right;\">\n      <th></th>\n      <th>W</th>\n      <th>X</th>\n      <th>Y</th>\n      <th>Z</th>\n    </tr>\n  </thead>\n  <tbody>\n    <tr>\n      <th>4</th>\n      <td>66</td>\n      <td>86</td>\n      <td>86</td>\n      <td>83</td>\n    </tr>\n    <tr>\n      <th>3</th>\n      <td>80</td>\n      <td>80</td>\n      <td>83</td>\n      <td>72</td>\n    </tr>\n    <tr>\n      <th>2</th>\n      <td>86</td>\n      <td>96</td>\n      <td>89</td>\n      <td>96</td>\n    </tr>\n    <tr>\n      <th>1</th>\n      <td>75</td>\n      <td>85</td>\n      <td>94</td>\n      <td>97</td>\n    </tr>\n    <tr>\n      <th>0</th>\n      <td>68</td>\n      <td>78</td>\n      <td>84</td>\n      <td>86</td>\n    </tr>\n  </tbody>\n</table>\n</div>"
     },
     "metadata": {},
     "output_type": "display_data"
    },
    {
     "data": {
      "text/plain": "    W   X   Y   Z\n0  66  86  86  83\n1  80  80  83  72\n2  86  96  89  96\n3  75  85  94  97\n4  68  78  84  86",
      "text/html": "<div>\n<style scoped>\n    .dataframe tbody tr th:only-of-type {\n        vertical-align: middle;\n    }\n\n    .dataframe tbody tr th {\n        vertical-align: top;\n    }\n\n    .dataframe thead th {\n        text-align: right;\n    }\n</style>\n<table border=\"1\" class=\"dataframe\">\n  <thead>\n    <tr style=\"text-align: right;\">\n      <th></th>\n      <th>W</th>\n      <th>X</th>\n      <th>Y</th>\n      <th>Z</th>\n    </tr>\n  </thead>\n  <tbody>\n    <tr>\n      <th>0</th>\n      <td>66</td>\n      <td>86</td>\n      <td>86</td>\n      <td>83</td>\n    </tr>\n    <tr>\n      <th>1</th>\n      <td>80</td>\n      <td>80</td>\n      <td>83</td>\n      <td>72</td>\n    </tr>\n    <tr>\n      <th>2</th>\n      <td>86</td>\n      <td>96</td>\n      <td>89</td>\n      <td>96</td>\n    </tr>\n    <tr>\n      <th>3</th>\n      <td>75</td>\n      <td>85</td>\n      <td>94</td>\n      <td>97</td>\n    </tr>\n    <tr>\n      <th>4</th>\n      <td>68</td>\n      <td>78</td>\n      <td>84</td>\n      <td>86</td>\n    </tr>\n  </tbody>\n</table>\n</div>"
     },
     "metadata": {},
     "output_type": "display_data"
    }
   ],
   "source": [
    "values = {'W':[68,75,86,80,66], 'X':[78,85,96,80,86], 'Y':[84,94,89,83,86], 'Z':[86,97,96,72,83]}\n",
    "df = pd.DataFrame(values)\n",
    "\n",
    "display(df)\n",
    "columns_reversed = df.iloc[:,::-1]\n",
    "\n",
    "display(columns_reversed)\n",
    "rows_reversed = df.iloc[::-1,:]\n",
    "\n",
    "display(rows_reversed)\n",
    "rows_reverse_index_reseted = rows_reversed.reset_index(drop=True)\n",
    "\n",
    "display(rows_reverse_index_reseted)\n"
   ],
   "metadata": {
    "collapsed": false,
    "pycharm": {
     "name": "#%%\n"
    }
   }
  }
 ],
 "metadata": {
  "kernelspec": {
   "display_name": "Python 3",
   "language": "python",
   "name": "python3"
  },
  "language_info": {
   "codemirror_mode": {
    "name": "ipython",
    "version": 2
   },
   "file_extension": ".py",
   "mimetype": "text/x-python",
   "name": "python",
   "nbconvert_exporter": "python",
   "pygments_lexer": "ipython2",
   "version": "2.7.6"
  }
 },
 "nbformat": 4,
 "nbformat_minor": 0
}