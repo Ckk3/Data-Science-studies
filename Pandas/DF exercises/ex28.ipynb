{
 "cells": [
  {
   "cell_type": "markdown",
   "metadata": {
    "collapsed": true,
    "pycharm": {
     "name": "#%% md\n"
    }
   },
   "source": [
    "28. Write a Pandas program to count city wise number of people from a given of data set (city, name of the person). Go to the editor\n",
    "Sample data:\n",
    "city Number of people\n",
    "0 California 4\n",
    "1 Georgia 2\n",
    "2 Los Angeles 4"
   ]
  }
 ],
 "metadata": {
  "kernelspec": {
   "display_name": "Python 3",
   "language": "python",
   "name": "python3"
  },
  "language_info": {
   "codemirror_mode": {
    "name": "ipython",
    "version": 2
   },
   "file_extension": ".py",
   "mimetype": "text/x-python",
   "name": "python",
   "nbconvert_exporter": "python",
   "pygments_lexer": "ipython2",
   "version": "2.7.6"
  }
 },
 "nbformat": 4,
 "nbformat_minor": 0
}