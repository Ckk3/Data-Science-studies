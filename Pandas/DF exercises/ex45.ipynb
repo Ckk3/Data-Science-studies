{
 "cells": [
  {
   "cell_type": "markdown",
   "metadata": {
    "collapsed": true,
    "pycharm": {
     "name": "#%% md\n"
    }
   },
   "source": [
    "45. Write a Pandas program to find the row for where the value of a given column is maximum. Go to the editor\n",
    "Sample Output:\n",
    "Original DataFrame\n",
    "col1 col2 col3\n",
    "0 1 4 7\n",
    "1 2 5 8\n",
    "2 3 6 12\n",
    "3 4 9 1\n",
    "4 7 5 11\n",
    "Row where col1 has maximum value:\n",
    "4\n",
    "Row where col2 has maximum value:\n",
    "3\n",
    "Row where col3 has maximum value:\n",
    "2"
   ]
  },
  {
   "cell_type": "code",
   "execution_count": 1,
   "outputs": [],
   "source": [
    "import pandas as pd\n",
    "from IPython.display import display"
   ],
   "metadata": {
    "collapsed": false,
    "pycharm": {
     "name": "#%%\n"
    }
   }
  },
  {
   "cell_type": "code",
   "execution_count": 6,
   "outputs": [
    {
     "name": "stdout",
     "output_type": "stream",
     "text": [
      "Row where col1 has maximum value: 4\n",
      "Row where col2 has maximum value: 3\n",
      "Row where col3 has maximum value: 2\n"
     ]
    }
   ],
   "source": [
    "num = {'col1':[1,2,3,4,7], 'col2':[4,5,6,9,5], 'col3':[7,8,12,1,11]}\n",
    "numbersDF = pd.DataFrame(num)\n",
    "print(f'Row where col1 has maximum value: {numbersDF[\"col1\"].idxmax()}')\n",
    "print(f'Row where col2 has maximum value: {numbersDF[\"col2\"].idxmax()}')\n",
    "print(f'Row where col3 has maximum value: {numbersDF[\"col3\"].idxmax()}')"
   ],
   "metadata": {
    "collapsed": false,
    "pycharm": {
     "name": "#%%\n"
    }
   }
  }
 ],
 "metadata": {
  "kernelspec": {
   "display_name": "Python 3",
   "language": "python",
   "name": "python3"
  },
  "language_info": {
   "codemirror_mode": {
    "name": "ipython",
    "version": 2
   },
   "file_extension": ".py",
   "mimetype": "text/x-python",
   "name": "python",
   "nbconvert_exporter": "python",
   "pygments_lexer": "ipython2",
   "version": "2.7.6"
  }
 },
 "nbformat": 4,
 "nbformat_minor": 0
}