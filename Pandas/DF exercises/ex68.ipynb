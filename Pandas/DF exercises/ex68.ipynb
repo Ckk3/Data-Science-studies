{
 "cells": [
  {
   "cell_type": "markdown",
   "metadata": {
    "collapsed": true,
    "pycharm": {
     "name": "#%% md\n"
    }
   },
   "source": [
    "68. Write a Pandas program to rename all columns with the same pattern of a given DataFrame. Go to the editor\n",
    "Sample Output:\n",
    "Original DataFrame\n",
    "Name Date_Of_Birth Age\n",
    "0 Alberto Franco 17/05/2002 18.5\n",
    "1 Gino Mcneill 16/02/1999 21.2\n",
    "2 Ryan Parkes 25/09/1998 22.5\n",
    "3 Eesha Hinton 11/05/2002 22.0\n",
    "4 Syed Wharton 15/09/1997 23.0\n",
    "Remove trailing (at the end) whitesapce and convert to lowercase of the columns name\n",
    "name date_of_birth age\n",
    "0 Alberto Franco 17/05/2002 18.5\n",
    "1 Gino Mcneill 16/02/1999 21.2\n",
    "2 Ryan Parkes 25/09/1998 22.5\n",
    "3 Eesha Hinton 11/05/2002 22.0\n",
    "4 Syed Wharton 15/09/1997 23.0"
   ]
  },
  {
   "cell_type": "code",
   "execution_count": 1,
   "outputs": [],
   "source": [
    "import pandas as pd\n",
    "from IPython.display import display"
   ],
   "metadata": {
    "collapsed": false,
    "pycharm": {
     "name": "#%%\n"
    }
   }
  },
  {
   "cell_type": "code",
   "execution_count": 26,
   "outputs": [
    {
     "data": {
      "text/plain": "           name date_of_birth   age\n0       Alberto    17/05/2002  18.5\n1  Gino Mcneill    16/02/1999  21.2\n2   Ryan Parkes    25/09/1998  22.5\n3  Essha Hinton    11/05/2002  22.0\n4  Syed Wharton    15/09/1997  23.0",
      "text/html": "<div>\n<style scoped>\n    .dataframe tbody tr th:only-of-type {\n        vertical-align: middle;\n    }\n\n    .dataframe tbody tr th {\n        vertical-align: top;\n    }\n\n    .dataframe thead th {\n        text-align: right;\n    }\n</style>\n<table border=\"1\" class=\"dataframe\">\n  <thead>\n    <tr style=\"text-align: right;\">\n      <th></th>\n      <th>name</th>\n      <th>date_of_birth</th>\n      <th>age</th>\n    </tr>\n  </thead>\n  <tbody>\n    <tr>\n      <th>0</th>\n      <td>Alberto</td>\n      <td>17/05/2002</td>\n      <td>18.5</td>\n    </tr>\n    <tr>\n      <th>1</th>\n      <td>Gino Mcneill</td>\n      <td>16/02/1999</td>\n      <td>21.2</td>\n    </tr>\n    <tr>\n      <th>2</th>\n      <td>Ryan Parkes</td>\n      <td>25/09/1998</td>\n      <td>22.5</td>\n    </tr>\n    <tr>\n      <th>3</th>\n      <td>Essha Hinton</td>\n      <td>11/05/2002</td>\n      <td>22.0</td>\n    </tr>\n    <tr>\n      <th>4</th>\n      <td>Syed Wharton</td>\n      <td>15/09/1997</td>\n      <td>23.0</td>\n    </tr>\n  </tbody>\n</table>\n</div>"
     },
     "metadata": {},
     "output_type": "display_data"
    }
   ],
   "source": [
    "values = {'Name':['Alberto', 'Gino Mcneill', 'Ryan Parkes', 'Essha Hinton', 'Syed Wharton'], 'Date_Of_Birth':['17/05/2002', '16/02/1999', '25/09/1998', '11/05/2002', '15/09/1997'], 'Age':[18.5, 21.2, 22.5, 22.0, 23.0]}\n",
    "df = pd.DataFrame(values)\n",
    "\n",
    "#for colum in df.columns:\n",
    "#    df[f'{colum}'.strip().lower()] = df[f'{colum}']\n",
    "#    df = df.drop(columns=colum)\n",
    "\n",
    "df.columns = df.columns.str.lower().str.rstrip()\n",
    "display(df)"
   ],
   "metadata": {
    "collapsed": false,
    "pycharm": {
     "name": "#%%\n"
    }
   }
  }
 ],
 "metadata": {
  "kernelspec": {
   "display_name": "Python 3",
   "language": "python",
   "name": "python3"
  },
  "language_info": {
   "codemirror_mode": {
    "name": "ipython",
    "version": 2
   },
   "file_extension": ".py",
   "mimetype": "text/x-python",
   "name": "python",
   "nbconvert_exporter": "python",
   "pygments_lexer": "ipython2",
   "version": "2.7.6"
  }
 },
 "nbformat": 4,
 "nbformat_minor": 0
}