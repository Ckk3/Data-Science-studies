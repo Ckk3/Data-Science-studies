{
 "cells": [
  {
   "cell_type": "markdown",
   "metadata": {
    "collapsed": true,
    "pycharm": {
     "name": "#%% md\n"
    }
   },
   "source": [
    "51. Write a Pandas program to convert the datatype of a given column (floats to ints). Go to the editor\n",
    "Sample data:\n",
    "Original DataFrame:\n",
    "attempts name qualify score\n",
    "0 1 Anastasia yes 12.50\n",
    "1 3 Dima no 9.10\n",
    "......\n",
    "8 2 Kevin no 8.80\n",
    "9 1 Jonas yes 19.13\n",
    "Data types of the columns of the said DataFrame:\n",
    "attempts int64\n",
    "name object\n",
    "qualify object\n",
    "score float64\n",
    "dtype: object\n",
    "Now change the Data type of 'score' column from float to int:\n",
    "attempts name qualify score\n",
    "0 1 Anastasia yes 12\n",
    "1 3 Dima no 9\n",
    "2 2 Katherine yes 16\n",
    "3 3 James no 12\n",
    "4 2 Emily no 9\n",
    "5 3 Michael yes 20\n",
    "6 1 Matthew yes 14\n",
    "7 1 Laura no 11\n",
    "8 2 Kevin no 8\n",
    "9 1 Jonas yes 19\n",
    "Data types of the columns of the DataFrame now:\n",
    "attempts int64\n",
    "name object\n",
    "qualify object\n",
    "score int64\n",
    "dtype: object"
   ]
  },
  {
   "cell_type": "code",
   "execution_count": 1,
   "outputs": [],
   "source": [
    "import pandas as pd\n",
    "import numpy as np\n",
    "from IPython.display import display"
   ],
   "metadata": {
    "collapsed": false,
    "pycharm": {
     "name": "#%%\n"
    }
   }
  },
  {
   "cell_type": "code",
   "execution_count": 10,
   "outputs": [
    {
     "name": "stdout",
     "output_type": "stream",
     "text": [
      "name        object\n",
      "score        int64\n",
      "attempts     int64\n",
      "qualify     object\n",
      "dtype: object\n"
     ]
    },
    {
     "data": {
      "text/plain": "        name  score  attempts qualify\n0  Anastasia     12         1     yes\n1       Dima      9         3      no\n2  Katherine     16         2     yes\n3      James     12         3      no\n4      Emily      9         2      no\n5    Michael     20         3     yes\n6    Matthew     14         1     yes\n7      Laura     11         1      no\n8      Kevin      8         2      no\n9      Jonas     19         1     yes",
      "text/html": "<div>\n<style scoped>\n    .dataframe tbody tr th:only-of-type {\n        vertical-align: middle;\n    }\n\n    .dataframe tbody tr th {\n        vertical-align: top;\n    }\n\n    .dataframe thead th {\n        text-align: right;\n    }\n</style>\n<table border=\"1\" class=\"dataframe\">\n  <thead>\n    <tr style=\"text-align: right;\">\n      <th></th>\n      <th>name</th>\n      <th>score</th>\n      <th>attempts</th>\n      <th>qualify</th>\n    </tr>\n  </thead>\n  <tbody>\n    <tr>\n      <th>0</th>\n      <td>Anastasia</td>\n      <td>12</td>\n      <td>1</td>\n      <td>yes</td>\n    </tr>\n    <tr>\n      <th>1</th>\n      <td>Dima</td>\n      <td>9</td>\n      <td>3</td>\n      <td>no</td>\n    </tr>\n    <tr>\n      <th>2</th>\n      <td>Katherine</td>\n      <td>16</td>\n      <td>2</td>\n      <td>yes</td>\n    </tr>\n    <tr>\n      <th>3</th>\n      <td>James</td>\n      <td>12</td>\n      <td>3</td>\n      <td>no</td>\n    </tr>\n    <tr>\n      <th>4</th>\n      <td>Emily</td>\n      <td>9</td>\n      <td>2</td>\n      <td>no</td>\n    </tr>\n    <tr>\n      <th>5</th>\n      <td>Michael</td>\n      <td>20</td>\n      <td>3</td>\n      <td>yes</td>\n    </tr>\n    <tr>\n      <th>6</th>\n      <td>Matthew</td>\n      <td>14</td>\n      <td>1</td>\n      <td>yes</td>\n    </tr>\n    <tr>\n      <th>7</th>\n      <td>Laura</td>\n      <td>11</td>\n      <td>1</td>\n      <td>no</td>\n    </tr>\n    <tr>\n      <th>8</th>\n      <td>Kevin</td>\n      <td>8</td>\n      <td>2</td>\n      <td>no</td>\n    </tr>\n    <tr>\n      <th>9</th>\n      <td>Jonas</td>\n      <td>19</td>\n      <td>1</td>\n      <td>yes</td>\n    </tr>\n  </tbody>\n</table>\n</div>"
     },
     "metadata": {},
     "output_type": "display_data"
    }
   ],
   "source": [
    "exam_data = {'name': ['Anastasia', 'Dima', 'Katherine', 'James', 'Emily', 'Michael', 'Matthew', 'Laura', 'Kevin', 'Jonas'], 'score': [12.5, 9.1, 16.5, 12.77, 9.21, 20.22, 14.5, 11.34, 8.8, 19.13], 'attempts': [1, 3, 2, 3, 2, 3, 1, 1, 2, 1], 'qualify': ['yes', 'no', 'yes', 'no', 'no', 'yes', 'yes', 'no', 'no', 'yes']}\n",
    "examDF = pd.DataFrame(exam_data)\n",
    "examDF['score'] = examDF['score'].astype('int64')\n",
    "print(examDF.dtypes)\n",
    "display(examDF)\n"
   ],
   "metadata": {
    "collapsed": false,
    "pycharm": {
     "name": "#%%\n"
    }
   }
  }
 ],
 "metadata": {
  "kernelspec": {
   "display_name": "Python 3",
   "language": "python",
   "name": "python3"
  },
  "language_info": {
   "codemirror_mode": {
    "name": "ipython",
    "version": 2
   },
   "file_extension": ".py",
   "mimetype": "text/x-python",
   "name": "python",
   "nbconvert_exporter": "python",
   "pygments_lexer": "ipython2",
   "version": "2.7.6"
  }
 },
 "nbformat": 4,
 "nbformat_minor": 0
}