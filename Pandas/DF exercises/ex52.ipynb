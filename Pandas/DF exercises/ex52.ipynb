{
 "cells": [
  {
   "cell_type": "markdown",
   "metadata": {
    "collapsed": true,
    "pycharm": {
     "name": "#%% md\n"
    }
   },
   "source": [
    "52. Write a Pandas program to remove infinite values from a given DataFrame. Go to the editor\n",
    "Sample data:\n",
    "Original DataFrame:\n",
    "0\n",
    "0 1000.000000\n",
    "1 2000.000000\n",
    "2 3000.000000\n",
    "3 -4000.000000\n",
    "4 inf\n",
    "5 -inf\n",
    "Removing infinite values:\n",
    "0\n",
    "0 1000.0\n",
    "1 2000.0\n",
    "2 3000.0\n",
    "3 -4000.0\n",
    "4 NaN\n",
    "5 NaN"
   ]
  },
  {
   "cell_type": "code",
   "execution_count": 1,
   "outputs": [],
   "source": [
    "import pandas as pd\n",
    "import numpy as np\n",
    "from IPython.display import display"
   ],
   "metadata": {
    "collapsed": false,
    "pycharm": {
     "name": "#%%\n"
    }
   }
  },
  {
   "cell_type": "code",
   "execution_count": 28,
   "outputs": [
    {
     "data": {
      "text/plain": "        0\n0  1000.0\n1  2000.0\n2  3000.0\n3 -4000.0\n4     inf\n5    -inf",
      "text/html": "<div>\n<style scoped>\n    .dataframe tbody tr th:only-of-type {\n        vertical-align: middle;\n    }\n\n    .dataframe tbody tr th {\n        vertical-align: top;\n    }\n\n    .dataframe thead th {\n        text-align: right;\n    }\n</style>\n<table border=\"1\" class=\"dataframe\">\n  <thead>\n    <tr style=\"text-align: right;\">\n      <th></th>\n      <th>0</th>\n    </tr>\n  </thead>\n  <tbody>\n    <tr>\n      <th>0</th>\n      <td>1000.0</td>\n    </tr>\n    <tr>\n      <th>1</th>\n      <td>2000.0</td>\n    </tr>\n    <tr>\n      <th>2</th>\n      <td>3000.0</td>\n    </tr>\n    <tr>\n      <th>3</th>\n      <td>-4000.0</td>\n    </tr>\n    <tr>\n      <th>4</th>\n      <td>inf</td>\n    </tr>\n    <tr>\n      <th>5</th>\n      <td>-inf</td>\n    </tr>\n  </tbody>\n</table>\n</div>"
     },
     "metadata": {},
     "output_type": "display_data"
    },
    {
     "data": {
      "text/plain": "        0\n0  1000.0\n1  2000.0\n2  3000.0\n3 -4000.0\n4     NaN\n5     NaN",
      "text/html": "<div>\n<style scoped>\n    .dataframe tbody tr th:only-of-type {\n        vertical-align: middle;\n    }\n\n    .dataframe tbody tr th {\n        vertical-align: top;\n    }\n\n    .dataframe thead th {\n        text-align: right;\n    }\n</style>\n<table border=\"1\" class=\"dataframe\">\n  <thead>\n    <tr style=\"text-align: right;\">\n      <th></th>\n      <th>0</th>\n    </tr>\n  </thead>\n  <tbody>\n    <tr>\n      <th>0</th>\n      <td>1000.0</td>\n    </tr>\n    <tr>\n      <th>1</th>\n      <td>2000.0</td>\n    </tr>\n    <tr>\n      <th>2</th>\n      <td>3000.0</td>\n    </tr>\n    <tr>\n      <th>3</th>\n      <td>-4000.0</td>\n    </tr>\n    <tr>\n      <th>4</th>\n      <td>NaN</td>\n    </tr>\n    <tr>\n      <th>5</th>\n      <td>NaN</td>\n    </tr>\n  </tbody>\n</table>\n</div>"
     },
     "metadata": {},
     "output_type": "display_data"
    }
   ],
   "source": [
    "values = [1000, 2000, 3000, -4000, np.inf, -np.inf]\n",
    "numbersDF = pd.DataFrame(values)\n",
    "display(numbersDF)\n",
    "#for row, column in numbersDF.iterrows():\n",
    "#    if np.isinf(column.values):\n",
    "#        numbersDF.iloc[[row]] = np.nan\n",
    "numbersDF = numbersDF.replace([np.inf, -np.inf], np.nan)\n",
    "display(numbersDF)"
   ],
   "metadata": {
    "collapsed": false,
    "pycharm": {
     "name": "#%%\n"
    }
   }
  }
 ],
 "metadata": {
  "kernelspec": {
   "display_name": "Python 3",
   "language": "python",
   "name": "python3"
  },
  "language_info": {
   "codemirror_mode": {
    "name": "ipython",
    "version": 2
   },
   "file_extension": ".py",
   "mimetype": "text/x-python",
   "name": "python",
   "nbconvert_exporter": "python",
   "pygments_lexer": "ipython2",
   "version": "2.7.6"
  }
 },
 "nbformat": 4,
 "nbformat_minor": 0
}