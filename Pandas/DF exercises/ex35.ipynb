{
 "cells": [
  {
   "cell_type": "markdown",
   "metadata": {
    "collapsed": true,
    "pycharm": {
     "name": "#%% md\n"
    }
   },
   "source": [
    "35. Write a Pandas program to count the NaN values in one or more columns in DataFrame. Go to the editor\n",
    "Sample data:\n",
    "Original DataFrame\n",
    "attempts name qualify score\n",
    "0 1 Anastasia yes 12.5\n",
    "1 3 Dima no 9.0\n",
    "2 2 Katherine yes 16.5\n",
    "3 3 James no NaN\n",
    "4 2 Emily no 9.0\n",
    "5 3 Michael yes 20.0\n",
    "6 1 Matthew yes 14.5\n",
    "7 1 Laura no NaN\n",
    "8 2 Kevin no 8.0\n",
    "9 1 Jonas yes 19.0\n",
    "Number of NaN values in one or more columns:\n",
    "2"
   ]
  },
  {
   "cell_type": "code",
   "execution_count": 1,
   "outputs": [],
   "source": [
    "import pandas as pd\n",
    "import numpy as np\n",
    "from IPython.display import display"
   ],
   "metadata": {
    "collapsed": false,
    "pycharm": {
     "name": "#%%\n"
    }
   }
  },
  {
   "cell_type": "code",
   "execution_count": 28,
   "outputs": [
    {
     "name": "stdout",
     "output_type": "stream",
     "text": [
      "The total of NaN values is 2\n"
     ]
    }
   ],
   "source": [
    "exam_data = {'name': ['Anastasia', 'Dima', 'Katherine', 'James', 'Emily', 'Michael', 'Matthew', 'Laura', 'Kevin', 'Jonas'],\n",
    "'score': [12.5, 9, 16.5, np.nan, 9, 20, 14.5, np.nan, 8, 19],\n",
    "'attempts': [1, 3, 2, 3, 2, 3, 1, 1, 2, 1],\n",
    "'qualify': ['yes', 'no', 'yes', 'no', 'no', 'yes', 'yes', 'no', 'no', 'yes']}\n",
    "examDF = pd.DataFrame(exam_data)\n",
    "\n",
    "nan_total = 0\n",
    "bro = examDF.isna()\n",
    "\n",
    "for c in bro.values:\n",
    "    for j in c:\n",
    "        if j:\n",
    "            nan_total += 1\n",
    "\n",
    "\n",
    "print(f'The total of NaN values is {nan_total}')"
   ],
   "metadata": {
    "collapsed": false,
    "pycharm": {
     "name": "#%%\n"
    }
   }
  }
 ],
 "metadata": {
  "kernelspec": {
   "display_name": "Python 3",
   "language": "python",
   "name": "python3"
  },
  "language_info": {
   "codemirror_mode": {
    "name": "ipython",
    "version": 2
   },
   "file_extension": ".py",
   "mimetype": "text/x-python",
   "name": "python",
   "nbconvert_exporter": "python",
   "pygments_lexer": "ipython2",
   "version": "2.7.6"
  }
 },
 "nbformat": 4,
 "nbformat_minor": 0
}