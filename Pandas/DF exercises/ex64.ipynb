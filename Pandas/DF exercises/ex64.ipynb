{
 "cells": [
  {
   "cell_type": "markdown",
   "metadata": {
    "collapsed": true,
    "pycharm": {
     "name": "#%% md\n"
    }
   },
   "source": [
    "64. Write a Pandas program to add a prefix or suffix to all columns of a given DataFrame. Go to the editor\n",
    "Sample Output:\n",
    "Original DataFrame\n",
    "W X Y Z\n",
    "0 68 78 84 86\n",
    "1 75 85 94 97\n",
    "2 86 96 89 96\n",
    "3 80 80 83 72\n",
    "4 66 86 86 83\n",
    "Add prefix:\n",
    "A_W A_X A_Y A_Z\n",
    "0 68 78 84 86\n",
    "1 75 85 94 97\n",
    "2 86 96 89 96\n",
    "3 80 80 83 72\n",
    "4 66 86 86 83\n",
    "Add suffix:\n",
    "W_1 X_1 Y_1 Z_1\n",
    "0 68 78 84 86\n",
    "1 75 85 94 97\n",
    "2 86 96 89 96\n",
    "3 80 80 83 72\n",
    "4 66 86 86 83"
   ]
  },
  {
   "cell_type": "code",
   "execution_count": 1,
   "outputs": [],
   "source": [
    "import pandas as pd\n",
    "from IPython.display import display"
   ],
   "metadata": {
    "collapsed": false,
    "pycharm": {
     "name": "#%%\n"
    }
   }
  },
  {
   "cell_type": "code",
   "execution_count": 4,
   "outputs": [
    {
     "data": {
      "text/plain": "   A_W  A_X  A_Y  A_Z\n0   68   78   84   86\n1   75   85   94   97\n2   86   96   89   96\n3   80   80   83   72\n4   66   86   86   83",
      "text/html": "<div>\n<style scoped>\n    .dataframe tbody tr th:only-of-type {\n        vertical-align: middle;\n    }\n\n    .dataframe tbody tr th {\n        vertical-align: top;\n    }\n\n    .dataframe thead th {\n        text-align: right;\n    }\n</style>\n<table border=\"1\" class=\"dataframe\">\n  <thead>\n    <tr style=\"text-align: right;\">\n      <th></th>\n      <th>A_W</th>\n      <th>A_X</th>\n      <th>A_Y</th>\n      <th>A_Z</th>\n    </tr>\n  </thead>\n  <tbody>\n    <tr>\n      <th>0</th>\n      <td>68</td>\n      <td>78</td>\n      <td>84</td>\n      <td>86</td>\n    </tr>\n    <tr>\n      <th>1</th>\n      <td>75</td>\n      <td>85</td>\n      <td>94</td>\n      <td>97</td>\n    </tr>\n    <tr>\n      <th>2</th>\n      <td>86</td>\n      <td>96</td>\n      <td>89</td>\n      <td>96</td>\n    </tr>\n    <tr>\n      <th>3</th>\n      <td>80</td>\n      <td>80</td>\n      <td>83</td>\n      <td>72</td>\n    </tr>\n    <tr>\n      <th>4</th>\n      <td>66</td>\n      <td>86</td>\n      <td>86</td>\n      <td>83</td>\n    </tr>\n  </tbody>\n</table>\n</div>"
     },
     "metadata": {},
     "output_type": "display_data"
    },
    {
     "data": {
      "text/plain": "   W_1  X_1  Y_1  Z_1\n0   68   78   84   86\n1   75   85   94   97\n2   86   96   89   96\n3   80   80   83   72\n4   66   86   86   83",
      "text/html": "<div>\n<style scoped>\n    .dataframe tbody tr th:only-of-type {\n        vertical-align: middle;\n    }\n\n    .dataframe tbody tr th {\n        vertical-align: top;\n    }\n\n    .dataframe thead th {\n        text-align: right;\n    }\n</style>\n<table border=\"1\" class=\"dataframe\">\n  <thead>\n    <tr style=\"text-align: right;\">\n      <th></th>\n      <th>W_1</th>\n      <th>X_1</th>\n      <th>Y_1</th>\n      <th>Z_1</th>\n    </tr>\n  </thead>\n  <tbody>\n    <tr>\n      <th>0</th>\n      <td>68</td>\n      <td>78</td>\n      <td>84</td>\n      <td>86</td>\n    </tr>\n    <tr>\n      <th>1</th>\n      <td>75</td>\n      <td>85</td>\n      <td>94</td>\n      <td>97</td>\n    </tr>\n    <tr>\n      <th>2</th>\n      <td>86</td>\n      <td>96</td>\n      <td>89</td>\n      <td>96</td>\n    </tr>\n    <tr>\n      <th>3</th>\n      <td>80</td>\n      <td>80</td>\n      <td>83</td>\n      <td>72</td>\n    </tr>\n    <tr>\n      <th>4</th>\n      <td>66</td>\n      <td>86</td>\n      <td>86</td>\n      <td>83</td>\n    </tr>\n  </tbody>\n</table>\n</div>"
     },
     "metadata": {},
     "output_type": "display_data"
    }
   ],
   "source": [
    "values = {'W':[68,75,86,80,66], 'X':[78,85,96,80,86], 'Y':[84,94,89,83,86], 'Z':[86,97,96,72,83]}\n",
    "df = pd.DataFrame(values)\n",
    "df_with_prefix = df.add_prefix('A_')\n",
    "display(df_with_prefix)\n",
    "df_with_sufix = df.add_suffix('_1')\n",
    "display(df_with_sufix)"
   ],
   "metadata": {
    "collapsed": false,
    "pycharm": {
     "name": "#%%\n"
    }
   }
  }
 ],
 "metadata": {
  "kernelspec": {
   "display_name": "Python 3",
   "language": "python",
   "name": "python3"
  },
  "language_info": {
   "codemirror_mode": {
    "name": "ipython",
    "version": 2
   },
   "file_extension": ".py",
   "mimetype": "text/x-python",
   "name": "python",
   "nbconvert_exporter": "python",
   "pygments_lexer": "ipython2",
   "version": "2.7.6"
  }
 },
 "nbformat": 4,
 "nbformat_minor": 0
}