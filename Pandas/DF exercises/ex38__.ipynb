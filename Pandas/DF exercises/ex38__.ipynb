{
 "cells": [
  {
   "cell_type": "markdown",
   "metadata": {
    "collapsed": true,
    "pycharm": {
     "name": "#%% md\n"
    }
   },
   "source": [
    "38. Write a Pandas program to devide a DataFrame in a given ratio.Go to the editor\n",
    "Sample data:\n",
    "Original DataFrame:\n",
    "0 1\n",
    "0 0.316147 -0.767359\n",
    "1 -0.813410 -2.522672\n",
    "2 0.869615 1.194704\n",
    "3 -0.892915 -0.055133\n",
    "4 -0.341126 0.518266\n",
    "5 1.857342 1.361229\n",
    "6 -0.044353 -1.205002\n",
    "7 -0.726346 -0.535147\n",
    "8 -1.350726 0.563117\n",
    "9 1.051666 -0.441533\n",
    "70% of the said DataFrame:\n",
    "0 1\n",
    "8 -1.350726 0.563117\n",
    "2 0.869615 1.194704\n",
    "5 1.857342 1.361229\n",
    "6 -0.044353 -1.205002\n",
    "3 -0.892915 -0.055133\n",
    "1 -0.813410 -2.522672\n",
    "0 0.316147 -0.767359\n",
    "30% of the said DataFrame:\n",
    "0 1\n",
    "4 -0.341126 0.518266\n",
    "7 -0.726346 -0.535147\n",
    "9 1.051666 -0.441533"
   ]
  }
 ],
 "metadata": {
  "kernelspec": {
   "display_name": "Python 3",
   "language": "python",
   "name": "python3"
  },
  "language_info": {
   "codemirror_mode": {
    "name": "ipython",
    "version": 2
   },
   "file_extension": ".py",
   "mimetype": "text/x-python",
   "name": "python",
   "nbconvert_exporter": "python",
   "pygments_lexer": "ipython2",
   "version": "2.7.6"
  }
 },
 "nbformat": 4,
 "nbformat_minor": 0
}