{
 "cells": [
  {
   "cell_type": "markdown",
   "metadata": {
    "collapsed": true,
    "pycharm": {
     "name": "#%% md\n"
    }
   },
   "source": [
    "18. Write a Pandas program to change the name 'James' to 'Suresh' in name column of the DataFrame. Go to the editor\n",
    "Sample Python dictionary data and list labels:\n",
    "exam_data = {'name': ['Anastasia', 'Dima', 'Katherine', 'James', 'Emily', 'Michael', 'Matthew', 'Laura', 'Kevin', 'Jonas'],\n",
    "'score': [12.5, 9, 16.5, np.nan, 9, 20, 14.5, np.nan, 8, 19],\n",
    "'attempts': [1, 3, 2, 3, 2, 3, 1, 1, 2, 1],\n",
    "'qualify': ['yes', 'no', 'yes', 'no', 'no', 'yes', 'yes', 'no', 'no', 'yes']}\n",
    "labels = ['a', 'b', 'c', 'd', 'e', 'f', 'g', 'h', 'i', 'j']\n",
    "Expected Output:\n",
    "Change the name 'James' to \\?Suresh\\?:\n",
    "attempts name qualify score\n",
    "a 1 Anastasia yes 12.5\n",
    "b 3 Dima no 9.0\n",
    ".......\n",
    "i 2 Kevin no 8.0\n",
    "j 1 Jonas yes 19.0"
   ]
  },
  {
   "cell_type": "code",
   "execution_count": 1,
   "outputs": [],
   "source": [
    "import pandas as pd\n",
    "import numpy as np\n",
    "from IPython.display import display"
   ],
   "metadata": {
    "collapsed": false,
    "pycharm": {
     "name": "#%%\n"
    }
   }
  },
  {
   "cell_type": "code",
   "execution_count": 10,
   "outputs": [
    {
     "data": {
      "text/plain": "        name  score  attempts qualify\na  Anastasia   12.5         1     yes\nb       Dima    9.0         3      no\nc  Katherine   16.5         2     yes\nd      James    NaN         3      no\ne      Emily    9.0         2      no\nf    Michael   20.0         3     yes\ng    Matthew   14.5         1     yes\nh      Laura    NaN         1      no\ni      Kevin    8.0         2      no\nj      Jonas   19.0         1     yes",
      "text/html": "<div>\n<style scoped>\n    .dataframe tbody tr th:only-of-type {\n        vertical-align: middle;\n    }\n\n    .dataframe tbody tr th {\n        vertical-align: top;\n    }\n\n    .dataframe thead th {\n        text-align: right;\n    }\n</style>\n<table border=\"1\" class=\"dataframe\">\n  <thead>\n    <tr style=\"text-align: right;\">\n      <th></th>\n      <th>name</th>\n      <th>score</th>\n      <th>attempts</th>\n      <th>qualify</th>\n    </tr>\n  </thead>\n  <tbody>\n    <tr>\n      <th>a</th>\n      <td>Anastasia</td>\n      <td>12.5</td>\n      <td>1</td>\n      <td>yes</td>\n    </tr>\n    <tr>\n      <th>b</th>\n      <td>Dima</td>\n      <td>9.0</td>\n      <td>3</td>\n      <td>no</td>\n    </tr>\n    <tr>\n      <th>c</th>\n      <td>Katherine</td>\n      <td>16.5</td>\n      <td>2</td>\n      <td>yes</td>\n    </tr>\n    <tr>\n      <th>d</th>\n      <td>James</td>\n      <td>NaN</td>\n      <td>3</td>\n      <td>no</td>\n    </tr>\n    <tr>\n      <th>e</th>\n      <td>Emily</td>\n      <td>9.0</td>\n      <td>2</td>\n      <td>no</td>\n    </tr>\n    <tr>\n      <th>f</th>\n      <td>Michael</td>\n      <td>20.0</td>\n      <td>3</td>\n      <td>yes</td>\n    </tr>\n    <tr>\n      <th>g</th>\n      <td>Matthew</td>\n      <td>14.5</td>\n      <td>1</td>\n      <td>yes</td>\n    </tr>\n    <tr>\n      <th>h</th>\n      <td>Laura</td>\n      <td>NaN</td>\n      <td>1</td>\n      <td>no</td>\n    </tr>\n    <tr>\n      <th>i</th>\n      <td>Kevin</td>\n      <td>8.0</td>\n      <td>2</td>\n      <td>no</td>\n    </tr>\n    <tr>\n      <th>j</th>\n      <td>Jonas</td>\n      <td>19.0</td>\n      <td>1</td>\n      <td>yes</td>\n    </tr>\n  </tbody>\n</table>\n</div>"
     },
     "metadata": {},
     "output_type": "display_data"
    },
    {
     "data": {
      "text/plain": "        name  score  attempts qualify\na  Anastasia   12.5         1     yes\nb       Dima    9.0         3      no\nc  Katherine   16.5         2     yes\nd     Suresh    NaN         3      no\ne      Emily    9.0         2      no\nf    Michael   20.0         3     yes\ng    Matthew   14.5         1     yes\nh      Laura    NaN         1      no\ni      Kevin    8.0         2      no\nj      Jonas   19.0         1     yes",
      "text/html": "<div>\n<style scoped>\n    .dataframe tbody tr th:only-of-type {\n        vertical-align: middle;\n    }\n\n    .dataframe tbody tr th {\n        vertical-align: top;\n    }\n\n    .dataframe thead th {\n        text-align: right;\n    }\n</style>\n<table border=\"1\" class=\"dataframe\">\n  <thead>\n    <tr style=\"text-align: right;\">\n      <th></th>\n      <th>name</th>\n      <th>score</th>\n      <th>attempts</th>\n      <th>qualify</th>\n    </tr>\n  </thead>\n  <tbody>\n    <tr>\n      <th>a</th>\n      <td>Anastasia</td>\n      <td>12.5</td>\n      <td>1</td>\n      <td>yes</td>\n    </tr>\n    <tr>\n      <th>b</th>\n      <td>Dima</td>\n      <td>9.0</td>\n      <td>3</td>\n      <td>no</td>\n    </tr>\n    <tr>\n      <th>c</th>\n      <td>Katherine</td>\n      <td>16.5</td>\n      <td>2</td>\n      <td>yes</td>\n    </tr>\n    <tr>\n      <th>d</th>\n      <td>Suresh</td>\n      <td>NaN</td>\n      <td>3</td>\n      <td>no</td>\n    </tr>\n    <tr>\n      <th>e</th>\n      <td>Emily</td>\n      <td>9.0</td>\n      <td>2</td>\n      <td>no</td>\n    </tr>\n    <tr>\n      <th>f</th>\n      <td>Michael</td>\n      <td>20.0</td>\n      <td>3</td>\n      <td>yes</td>\n    </tr>\n    <tr>\n      <th>g</th>\n      <td>Matthew</td>\n      <td>14.5</td>\n      <td>1</td>\n      <td>yes</td>\n    </tr>\n    <tr>\n      <th>h</th>\n      <td>Laura</td>\n      <td>NaN</td>\n      <td>1</td>\n      <td>no</td>\n    </tr>\n    <tr>\n      <th>i</th>\n      <td>Kevin</td>\n      <td>8.0</td>\n      <td>2</td>\n      <td>no</td>\n    </tr>\n    <tr>\n      <th>j</th>\n      <td>Jonas</td>\n      <td>19.0</td>\n      <td>1</td>\n      <td>yes</td>\n    </tr>\n  </tbody>\n</table>\n</div>"
     },
     "metadata": {},
     "output_type": "display_data"
    }
   ],
   "source": [
    "exam_data = {'name': ['Anastasia', 'Dima', 'Katherine', 'James', 'Emily', 'Michael', 'Matthew', 'Laura', 'Kevin', 'Jonas'],\n",
    "'score': [12.5, 9, 16.5, np.nan, 9, 20, 14.5, np.nan, 8, 19],\n",
    "'attempts': [1, 3, 2, 3, 2, 3, 1, 1, 2, 1],\n",
    "'qualify': ['yes', 'no', 'yes', 'no', 'no', 'yes', 'yes', 'no', 'no', 'yes']}\n",
    "labels = ['a', 'b', 'c', 'd', 'e', 'f', 'g', 'h', 'i', 'j']\n",
    "examDF = pd.DataFrame(data=exam_data, index=labels)\n",
    "\n",
    "\n",
    "examDF.loc['d', 'name'] = 'Suresh'\n",
    "display(examDF)\n"
   ],
   "metadata": {
    "collapsed": false,
    "pycharm": {
     "name": "#%%\n"
    }
   }
  }
 ],
 "metadata": {
  "kernelspec": {
   "display_name": "Python 3",
   "language": "python",
   "name": "python3"
  },
  "language_info": {
   "codemirror_mode": {
    "name": "ipython",
    "version": 2
   },
   "file_extension": ".py",
   "mimetype": "text/x-python",
   "name": "python",
   "nbconvert_exporter": "python",
   "pygments_lexer": "ipython2",
   "version": "2.7.6"
  }
 },
 "nbformat": 4,
 "nbformat_minor": 0
}