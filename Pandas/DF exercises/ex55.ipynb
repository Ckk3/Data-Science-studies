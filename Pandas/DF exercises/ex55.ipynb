{
 "cells": [
  {
   "cell_type": "markdown",
   "metadata": {
    "collapsed": true,
    "pycharm": {
     "name": "#%% md\n"
    }
   },
   "source": [
    "55. Write a Pandas program to group by the first column and get second column as lists in rows. Go to the editor\n",
    "Sample data:\n",
    "Original DataFrame\n",
    "col1 col2\n",
    "0 C1 1\n",
    "1 C1 2\n",
    "2 C2 3\n",
    "3 C2 3\n",
    "4 C2 4\n",
    "5 C3 6\n",
    "6 C2 5\n",
    "Group on the col1:\n",
    "col1\n",
    "C1 [1, 2]\n",
    "C2 [3, 3, 4, 5]\n",
    "C3 [6]\n",
    "Name: col2, dtype: object"
   ]
  },
  {
   "cell_type": "code",
   "execution_count": 1,
   "outputs": [],
   "source": [
    "import pandas as pd\n",
    "from IPython.display import display"
   ],
   "metadata": {
    "collapsed": false,
    "pycharm": {
     "name": "#%%\n"
    }
   }
  },
  {
   "cell_type": "code",
   "execution_count": null,
   "outputs": [],
   "source": [],
   "metadata": {
    "collapsed": false,
    "pycharm": {
     "name": "#%%\n"
    }
   }
  }
 ],
 "metadata": {
  "kernelspec": {
   "display_name": "Python 3",
   "language": "python",
   "name": "python3"
  },
  "language_info": {
   "codemirror_mode": {
    "name": "ipython",
    "version": 2
   },
   "file_extension": ".py",
   "mimetype": "text/x-python",
   "name": "python",
   "nbconvert_exporter": "python",
   "pygments_lexer": "ipython2",
   "version": "2.7.6"
  }
 },
 "nbformat": 4,
 "nbformat_minor": 0
}