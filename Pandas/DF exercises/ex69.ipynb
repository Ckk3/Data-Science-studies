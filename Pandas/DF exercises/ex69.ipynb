{
 "cells": [
  {
   "cell_type": "markdown",
   "metadata": {
    "collapsed": true,
    "pycharm": {
     "name": "#%% md\n"
    }
   },
   "source": [
    "69. Write a Pandas program to merge datasets and check uniqueness. Go to the editor\n",
    "Sample Output:\n",
    "Original DataFrame:\n",
    "Name Date_Of_Birth Age\n",
    "0 Alberto Franco 17/05/2002 18.5\n",
    "1 Gino Mcneill 16/02/1999 21.2\n",
    "2 Ryan Parkes 25/09/1998 22.5\n",
    "3 Eesha Hinton 11/05/2002 22.0\n",
    "4 Syed Wharton 15/09/1997 23.0\n",
    "New DataFrames:\n",
    "Name Date_Of_Birth Age\n",
    "2 Ryan Parkes 25/09/1998 22.5\n",
    "3 Eesha Hinton 11/05/2002 22.0\n",
    "4 Syed Wharton 15/09/1997 23.0\n",
    "Name Date_Of_Birth Age\n",
    "0 Alberto Franco 17/05/2002 18.5\n",
    "1 Gino Mcneill 16/02/1999 21.2\n",
    "3 Eesha Hinton 11/05/2002 22.0\n",
    "4 Syed Wharton 15/09/1997 23.0\n",
    "\"one_to_one\": check if merge keys are unique in both left and right datasets:\"\n",
    "Name Date_Of_Birth Age\n",
    "0 Eesha Hinton 11/05/2002 22.0\n",
    "1 Syed Wharton 15/09/1997 23.0\n",
    "\"one_to_many\" or \"1:m\": check if merge keys are unique in left dataset:\n",
    "Name Date_Of_Birth Age\n",
    "0 Eesha Hinton 11/05/2002 22.0\n",
    "1 Syed Wharton 15/09/1997 23.0\n",
    "\"any_to_one\" or \"m:1\": check if merge keys are unique in right dataset:\n",
    "Name Date_Of_Birth Age\n",
    "0 Eesha Hinton 11/05/2002 22.0\n",
    "1 Syed Wharton 15/09/1997 23.0"
   ]
  },
  {
   "cell_type": "code",
   "execution_count": null,
   "outputs": [],
   "source": [],
   "metadata": {
    "collapsed": false,
    "pycharm": {
     "name": "#%%\n"
    }
   }
  }
 ],
 "metadata": {
  "kernelspec": {
   "display_name": "Python 3",
   "language": "python",
   "name": "python3"
  },
  "language_info": {
   "codemirror_mode": {
    "name": "ipython",
    "version": 2
   },
   "file_extension": ".py",
   "mimetype": "text/x-python",
   "name": "python",
   "nbconvert_exporter": "python",
   "pygments_lexer": "ipython2",
   "version": "2.7.6"
  }
 },
 "nbformat": 4,
 "nbformat_minor": 0
}