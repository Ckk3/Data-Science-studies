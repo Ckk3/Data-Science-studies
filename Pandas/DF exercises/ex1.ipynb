{
 "cells": [
  {
   "cell_type": "markdown",
   "metadata": {
    "collapsed": true,
    "pycharm": {
     "name": "#%% md\n"
    }
   },
   "source": [
    "1- Write a Pandas program to get the powers of an array values element-wise. Go to the editor\n",
    "Note: First array elements raised to powers from second array\n",
    "Sample data: {'X':[78,85,96,80,86], 'Y':[84,94,89,83,86],'Z':[86,97,96,72,83]}\n",
    "Expected Output:\n",
    "X Y Z\n",
    "0 78 84 86\n",
    "1 85 94 97\n",
    "2 96 89 96\n",
    "3 80 83 72\n",
    "4 86 86 83"
   ]
  },
  {
   "cell_type": "code",
   "execution_count": 4,
   "outputs": [],
   "source": [
    "import pandas as pd\n",
    "from IPython.display import display"
   ],
   "metadata": {
    "collapsed": false,
    "pycharm": {
     "name": "#%%\n"
    }
   }
  },
  {
   "cell_type": "code",
   "execution_count": 5,
   "outputs": [
    {
     "data": {
      "text/plain": "    X   Y   Z\n0  78  84  86\n1  85  94  97\n2  96  89  96\n3  80  83  72\n4  86  86  83",
      "text/html": "<div>\n<style scoped>\n    .dataframe tbody tr th:only-of-type {\n        vertical-align: middle;\n    }\n\n    .dataframe tbody tr th {\n        vertical-align: top;\n    }\n\n    .dataframe thead th {\n        text-align: right;\n    }\n</style>\n<table border=\"1\" class=\"dataframe\">\n  <thead>\n    <tr style=\"text-align: right;\">\n      <th></th>\n      <th>X</th>\n      <th>Y</th>\n      <th>Z</th>\n    </tr>\n  </thead>\n  <tbody>\n    <tr>\n      <th>0</th>\n      <td>78</td>\n      <td>84</td>\n      <td>86</td>\n    </tr>\n    <tr>\n      <th>1</th>\n      <td>85</td>\n      <td>94</td>\n      <td>97</td>\n    </tr>\n    <tr>\n      <th>2</th>\n      <td>96</td>\n      <td>89</td>\n      <td>96</td>\n    </tr>\n    <tr>\n      <th>3</th>\n      <td>80</td>\n      <td>83</td>\n      <td>72</td>\n    </tr>\n    <tr>\n      <th>4</th>\n      <td>86</td>\n      <td>86</td>\n      <td>83</td>\n    </tr>\n  </tbody>\n</table>\n</div>"
     },
     "metadata": {},
     "output_type": "display_data"
    }
   ],
   "source": [
    "array = {'X':[78,85,96,80,86], 'Y':[84,94,89,83,86],'Z':[86,97,96,72,83]}\n",
    "arrayDF = pd.DataFrame(array)\n",
    "display(arrayDF)"
   ],
   "metadata": {
    "collapsed": false,
    "pycharm": {
     "name": "#%%\n"
    }
   }
  }
 ],
 "metadata": {
  "kernelspec": {
   "display_name": "Python 3",
   "language": "python",
   "name": "python3"
  },
  "language_info": {
   "codemirror_mode": {
    "name": "ipython",
    "version": 2
   },
   "file_extension": ".py",
   "mimetype": "text/x-python",
   "name": "python",
   "nbconvert_exporter": "python",
   "pygments_lexer": "ipython2",
   "version": "2.7.6"
  }
 },
 "nbformat": 4,
 "nbformat_minor": 0
}