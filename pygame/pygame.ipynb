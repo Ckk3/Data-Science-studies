{
 "metadata": {
  "language_info": {
   "codemirror_mode": {
    "name": "ipython",
    "version": 3
   },
   "file_extension": ".py",
   "mimetype": "text/x-python",
   "name": "python",
   "nbconvert_exporter": "python",
   "pygments_lexer": "ipython3",
   "version": "3.8.5-final"
  },
  "orig_nbformat": 2,
  "kernelspec": {
   "name": "python3",
   "display_name": "Python 3",
   "language": "python"
  }
 },
 "nbformat": 4,
 "nbformat_minor": 2,
 "cells": [
  {
   "source": [
    "<h1>PyGame</h1>"
   ],
   "cell_type": "markdown",
   "metadata": {}
  },
  {
   "cell_type": "code",
   "execution_count": 5,
   "metadata": {},
   "outputs": [],
   "source": [
    "import pygame as pg\n",
    "#import numpy as np\n",
    "#import math"
   ]
  },
  {
   "source": [
    "<h2>Starting</h2>"
   ],
   "cell_type": "markdown",
   "metadata": {}
  },
  {
   "cell_type": "code",
   "execution_count": 6,
   "metadata": {},
   "outputs": [],
   "source": [
    "pg.init()\n",
    "\n",
    "size = width, height = 620, 440 # size = [620, 440]\n",
    "#size = pygame.display.Info().current_w, pygame.display.Info().current_h\n",
    "screenColor = (0,156,59)\n",
    "\n",
    "screen = pg.display.set_mode(size=size) #define window size\n",
    "pg.display.set_caption(\"WINDOW\")"
   ]
  },
  {
   "source": [
    "<h2>Loop</h2>"
   ],
   "cell_type": "markdown",
   "metadata": {}
  },
  {
   "cell_type": "code",
   "execution_count": 7,
   "metadata": {},
   "outputs": [
    {
     "output_type": "stream",
     "name": "stdout",
     "text": [
      "screen closed\n"
     ]
    }
   ],
   "source": [
    "done = False\n",
    "#circle = pg.draw.circle(surface=screen, color=(219, 97, 110, 0), radius=2,width=2, center=(width/2, height/2))\n",
    "circleColor, lozengeColor, arcColor = (0, 39, 118, 0), (255, 223, 0, 0), (255, 255, 255, 0.5)\n",
    "circleRadious = 120\n",
    "#circleDiameter = circleRadious*2\n",
    "#arcLeft, arcTop, arcWidth, arcHeight  = width/2-circleRadious, height/2-circleRadious, circleDiameter, circleDiameter\n",
    "\n",
    "#circleRect = pg.Rect(arcLeft, arcTop, arcWidth, arcHeight) #Cicle rect for arc\n",
    "\n",
    "while not done:\n",
    "    for event in pg.event.get():\n",
    "        if event.type == pg.QUIT:\n",
    "            print(\"screen closed\")\n",
    "            done = True\n",
    "        \n",
    "        pg.display.update() #update window content\n",
    "        screen.fill(screenColor)\n",
    "        pg.draw.polygon(surface=screen, color=lozengeColor, points=[(20, height/2), (width/2, height-20), (width-20, height/2), (width/2, 20)], width=0) #Drawing Lozange\n",
    "        pg.draw.circle(surface=screen, color=circleColor, radius=circleRadious,width=120, center=(width/2, height/2)) #Drawing Circle\n",
    "        #pg.draw.arc(surface=screen, color=arcColor, rect=circleRect, start_angle=math.radians(330), stop_angle= math.radians(160), width=20)\n",
    "\n",
    "pg.display.quit()"
   ]
  },
  {
   "source": [
    "<h3>Close Window</h3>"
   ],
   "cell_type": "markdown",
   "metadata": {}
  },
  {
   "cell_type": "code",
   "execution_count": 8,
   "metadata": {},
   "outputs": [],
   "source": [
    "pg.display.quit()"
   ]
  },
  {
   "cell_type": "code",
   "execution_count": null,
   "metadata": {},
   "outputs": [],
   "source": []
  }
 ]
}