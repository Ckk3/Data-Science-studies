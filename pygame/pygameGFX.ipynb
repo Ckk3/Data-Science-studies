{
 "metadata": {
  "language_info": {
   "codemirror_mode": {
    "name": "ipython",
    "version": 3
   },
   "file_extension": ".py",
   "mimetype": "text/x-python",
   "name": "python",
   "nbconvert_exporter": "python",
   "pygments_lexer": "ipython3",
   "version": "3.8.5-final"
  },
  "orig_nbformat": 2,
  "kernelspec": {
   "name": "python3",
   "display_name": "Python 3",
   "language": "python"
  }
 },
 "nbformat": 4,
 "nbformat_minor": 2,
 "cells": [
  {
   "source": [
    "<h1>PyGame.gfxdraw</h1>"
   ],
   "cell_type": "markdown",
   "metadata": {}
  },
  {
   "cell_type": "code",
   "execution_count": 70,
   "metadata": {},
   "outputs": [],
   "source": [
    "import pygame as pg \n",
    "import pygame.gfxdraw as pgfx\n",
    "import struct\n",
    "import time\n",
    "import sandPixel"
   ]
  },
  {
   "source": [
    "<h2>Seting Data</h2>\n"
   ],
   "cell_type": "markdown",
   "metadata": {}
  },
  {
   "source": [
    "<h3>->Sand</h3>"
   ],
   "cell_type": "markdown",
   "metadata": {}
  },
  {
   "cell_type": "code",
   "execution_count": 71,
   "metadata": {},
   "outputs": [
    {
     "name": "stdout",
     "output_type": "stream",
     "text": [
      "O valor foi 2\n"
     ]
    },
    {
     "ename": "AttributeError",
     "evalue": "'Sand' object has no attribute 'john'",
     "output_type": "error",
     "traceback": [
      "\u001B[1;31m---------------------------------------------------------------------------\u001B[0m",
      "\u001B[1;31mAttributeError\u001B[0m                            Traceback (most recent call last)",
      "\u001B[1;32m<ipython-input-71-d69034ff2a91>\u001B[0m in \u001B[0;36m<module>\u001B[1;34m\u001B[0m\n\u001B[0;32m      1\u001B[0m \u001B[0mx\u001B[0m \u001B[1;33m=\u001B[0m \u001B[0msandPixel\u001B[0m\u001B[1;33m.\u001B[0m\u001B[0mSand\u001B[0m\u001B[1;33m(\u001B[0m\u001B[1;36m2\u001B[0m\u001B[1;33m)\u001B[0m\u001B[1;33m\u001B[0m\u001B[1;33m\u001B[0m\u001B[0m\n\u001B[1;32m----> 2\u001B[1;33m \u001B[0mx\u001B[0m\u001B[1;33m.\u001B[0m\u001B[0mjohn\u001B[0m\u001B[1;33m(\u001B[0m\u001B[1;33m)\u001B[0m\u001B[1;33m\u001B[0m\u001B[1;33m\u001B[0m\u001B[0m\n\u001B[0m\u001B[0;32m      3\u001B[0m \u001B[1;31m#x.criar_areia()\u001B[0m\u001B[1;33m\u001B[0m\u001B[1;33m\u001B[0m\u001B[1;33m\u001B[0m\u001B[0m\n\u001B[0;32m      4\u001B[0m \u001B[1;31m#x.create_sand()\u001B[0m\u001B[1;33m\u001B[0m\u001B[1;33m\u001B[0m\u001B[1;33m\u001B[0m\u001B[0m\n\u001B[0;32m      5\u001B[0m \u001B[1;31m#x.createSand()\u001B[0m\u001B[1;33m\u001B[0m\u001B[1;33m\u001B[0m\u001B[1;33m\u001B[0m\u001B[0m\n",
      "\u001B[1;31mAttributeError\u001B[0m: 'Sand' object has no attribute 'john'"
     ]
    }
   ],
   "source": [
    "x = sandPixel.Sand(2)\n",
    "x.john()\n",
    "#x.criar_areia()\n",
    "#x.create_sand()\n",
    "#x.createSand()\n",
    "#x.zoaonelson('ola')"
   ]
  },
  {
   "source": [
    "<h2>Creating Window</h2>"
   ],
   "cell_type": "markdown",
   "metadata": {}
  },
  {
   "cell_type": "code",
   "execution_count": 27,
   "metadata": {},
   "outputs": [],
   "source": [
    "pg.display.init()\n",
    "size = width, height = 50, 50\n",
    "screen = pg.display.set_mode(size=size, flags=pg.SCALED | pg.RESIZABLE)\n",
    "color = (255,255,255,0)\n",
    "done = False\n",
    "y = int(height/2)\n",
    "pixelColor = (0, 0, 0)\n",
    "while not done:\n",
    "    for event in pg.event.get(): #See all events in window\n",
    "        if event.type == pg.QUIT: #Check if user want close window\n",
    "            done = True\n",
    "    pg.display.update()\n",
    "    screen.fill(color)\n",
    "    #Sand(screen=screen, color=pixelColor, x=int(width/2), y=y) #Creating Pixel\n",
    "    y += 1\n",
    "    time.sleep(0.5)\n",
    "\n",
    "pg.display.quit()"
   ]
  },
  {
   "source": [
    "<h3>Close Window</h3>"
   ],
   "cell_type": "markdown",
   "metadata": {}
  },
  {
   "cell_type": "code",
   "execution_count": 28,
   "metadata": {},
   "outputs": [],
   "source": [
    "pg.display.quit()\n"
   ]
  },
  {
   "cell_type": "code",
   "execution_count": 29,
   "metadata": {},
   "outputs": [
    {
     "name": "stdout",
     "output_type": "stream",
     "text": [
      "\\sdadsa\n"
     ]
    }
   ],
   "source": []
  }
 ]
}