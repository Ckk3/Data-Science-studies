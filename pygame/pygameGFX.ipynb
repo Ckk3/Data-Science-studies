{
 "metadata": {
  "language_info": {
   "codemirror_mode": {
    "name": "ipython",
    "version": 3
   },
   "file_extension": ".py",
   "mimetype": "text/x-python",
   "name": "python",
   "nbconvert_exporter": "python",
   "pygments_lexer": "ipython3",
   "version": "3.8.5-final"
  },
  "orig_nbformat": 2,
  "kernelspec": {
   "name": "python3",
   "display_name": "Python 3",
   "language": "python"
  }
 },
 "nbformat": 4,
 "nbformat_minor": 2,
 "cells": [
  {
   "source": [
    "<h1>PyGame.gfxdraw"
   ],
   "cell_type": "markdown",
   "metadata": {}
  },
  {
   "cell_type": "code",
   "execution_count": 125,
   "metadata": {},
   "outputs": [],
   "source": [
    "import pygame as pg \n",
    "import pygame.gfxdraw as pgfx\n",
    "import struct\n",
    "import math"
   ]
  },
  {
   "source": [
    "<h2>Creating Window</h2>"
   ],
   "cell_type": "markdown",
   "metadata": {}
  },
  {
   "cell_type": "code",
   "execution_count": 128,
   "metadata": {},
   "outputs": [
    {
     "output_type": "stream",
     "name": "stdout",
     "text": [
      "1347031440544\n"
     ]
    }
   ],
   "source": [
    "pg.display.init()\n",
    "size = width, height = 50, 50\n",
    "screen = pg.display.set_mode(size=size, flags=pg.SCALED | pg.RESIZABLE)\n",
    "color = (255,255,255,0)\n",
    "done = False\n",
    "pixelColor = (0, 0, 0)\n",
    "while not done:\n",
    "    for event in pg.event.get(): #See all events in window\n",
    "        if event.type == pg.QUIT: #Check if user want close window\n",
    "            done = True\n",
    "    pg.display.update()\n",
    "    screen.fill(color)\n",
    "    pgfx.pixel(screen, int(width/2), int(height/2), pixelColor) #Creating Pixel \n",
    "\n",
    "\n",
    "pg.display.quit()"
   ]
  },
  {
   "source": [
    "<h3>Close Window</h3>"
   ],
   "cell_type": "markdown",
   "metadata": {}
  },
  {
   "cell_type": "code",
   "execution_count": 127,
   "metadata": {},
   "outputs": [],
   "source": [
    "pg.display.quit()\n"
   ]
  },
  {
   "source": [
    "<h2>Seting Data</h2>\n"
   ],
   "cell_type": "markdown",
   "metadata": {}
  },
  {
   "source": [
    "<h3>->Sand</h3>"
   ],
   "cell_type": "markdown",
   "metadata": {}
  },
  {
   "cell_type": "code",
   "execution_count": 127,
   "metadata": {},
   "outputs": [],
   "source": [
    "\n"
   ]
  },
  {
   "cell_type": "code",
   "execution_count": 71,
   "metadata": {},
   "outputs": [
    {
     "output_type": "stream",
     "name": "stdout",
     "text": [
      "12\n"
     ]
    }
   ],
   "source": []
  }
 ]
}